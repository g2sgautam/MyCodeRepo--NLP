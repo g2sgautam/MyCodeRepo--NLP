{
 "cells": [
  {
   "cell_type": "markdown",
   "metadata": {},
   "source": [
    "<h1>Tokenization</h1>\n",
    "<p>\n",
    "Tokenization may be defined as the process of splitting the text into smaller parts\n",
    "called tokens, and is considered a crucial step in NLP.\n",
    "</p>\n",
    "\n",
    "\n",
    "<h2> Why tokenization is important ? </h2>\n",
    "<p>\n",
    "Machines are unable to understand text data so for analysing a piece of text you need to convert the text to table containing features (basically converting a paragraph of text into a table row identifying important words as features) . Computer by default reads a piece of text character by character but to identify a word as a single unit we need to perform tokenization.\n",
    "</p>"
   ]
  },
  {
   "cell_type": "code",
   "execution_count": 2,
   "metadata": {},
   "outputs": [
    {
     "name": "stdout",
     "output_type": "stream",
     "text": [
      "Total Number of sentences :  2\n",
      "[' Welcome everyone .', 'I hope you find this interesting .Please do reply.']\n"
     ]
    }
   ],
   "source": [
    "# The sent_tokenize function uses an instance of NLTK known as PunktSentenceTokenizer. \n",
    "\n",
    "from nltk.tokenize import sent_tokenize\n",
    "\n",
    "paragraph = \" Welcome everyone . I hope you find this interesting .Please do reply.\"\n",
    "\n",
    "all_sentences = sent_tokenize(paragraph)\n",
    "\n",
    "print(\"Total Number of sentences : \",len(all_sentences))\n",
    "\n",
    "print(all_sentences)"
   ]
  },
  {
   "cell_type": "markdown",
   "metadata": {},
   "source": [
    "Notice that you require spaces after \".\" but before \".\" spaces may not be required  It does not recognize \"Please do reply as seperate sentence\""
   ]
  },
  {
   "cell_type": "code",
   "execution_count": 3,
   "metadata": {},
   "outputs": [
    {
     "name": "stdout",
     "output_type": "stream",
     "text": [
      "['Welcome everyone .', 'I hope you find this interesting .', 'Please do reply.']\n",
      "['Welcome everyone.', 'I hope you find this interesting.', 'Please do reply.']\n"
     ]
    }
   ],
   "source": [
    "#Space after and before \".\"\n",
    "print(sent_tokenize(\"Welcome everyone . I hope you find this interesting . Please do reply.\"))\n",
    "\n",
    "#Space after \".\" not before \".\"\n",
    "print(sent_tokenize(\"Welcome everyone. I hope you find this interesting. Please do reply.\"))"
   ]
  },
  {
   "cell_type": "markdown",
   "metadata": {},
   "source": [
    "#### Rule : Space after \".\" is must to be recognized as a sentence by sent_tokenize()"
   ]
  },
  {
   "cell_type": "markdown",
   "metadata": {},
   "source": [
    "Tokenizing text in other languages"
   ]
  },
  {
   "cell_type": "code",
   "execution_count": 4,
   "metadata": {},
   "outputs": [
    {
     "data": {
      "text/plain": [
       "[' Hello everyone.',\n",
       " 'Hope all are fine and doing well.',\n",
       " 'Hope you find the book interesting']"
      ]
     },
     "execution_count": 4,
     "metadata": {},
     "output_type": "execute_result"
    }
   ],
   "source": [
    "import nltk\n",
    "tokenizer=nltk.data.load('tokenizers/punkt/english.pickle')\n",
    "text=\" Hello everyone. Hope all are fine and doing well. Hope you find the book interesting\"\n",
    "tokenizer.tokenize(text)"
   ]
  },
  {
   "cell_type": "markdown",
   "metadata": {},
   "source": [
    "Use \"nltk.data.path\" to get location for data files.\n",
    "Path for .pickle files C:\\Users\\MASTER\\AppData\\Roaming\\nltk_data\\tokenizers\\punkt"
   ]
  },
  {
   "cell_type": "markdown",
   "metadata": {},
   "source": [
    "### Sentence to Word Tokenization"
   ]
  },
  {
   "cell_type": "code",
   "execution_count": 5,
   "metadata": {},
   "outputs": [
    {
     "name": "stdout",
     "output_type": "stream",
     "text": [
      "['Have', 'a', 'nice', 'day', '.', 'Hope', 'you', 'find', 'this', 'interesting', '.', 'Why', 'ca', \"n't\", 'you', 'do', 'self', 'study', '?', 'I', \"'m\", \"confused.Let'r\"]\n"
     ]
    }
   ],
   "source": [
    "from nltk.tokenize import word_tokenize\n",
    "\n",
    "print(word_tokenize(\"Have a nice day. Hope you find this interesting. Why can't you do self study ? I'm confused.Let'r\"))"
   ]
  },
  {
   "cell_type": "markdown",
   "metadata": {},
   "source": [
    "word_tokenize is method of treebank.py file of TreebankWordTokenizer class .\n",
    "\n",
    "<p>\n",
    "Note that \" 'm \" is seperate from \"I\" in \"I'm\" but for can't  \"n't\" occur together as a single token\"\n",
    "\n",
    "This is because of following rules in treebank.py file <br/> \n",
    "<b>\n",
    "Occur Together - 'll|'LL|'re|'RE|'ve|'VE|n't|N'T <br/>\n",
    "Seperated - [sS]|'[mM]|'[dD] <br/>\n",
    "</b>\n",
    "</p><br/>\n",
    "Also \"'r\" occurs along with the word itself \n",
    "\n"
   ]
  },
  {
   "cell_type": "code",
   "execution_count": 6,
   "metadata": {},
   "outputs": [
    {
     "name": "stdout",
     "output_type": "stream",
     "text": [
      "['Have', 'a', 'nice', 'day.', 'Hope', 'you', 'find', 'this', 'interesting.', 'Why', 'ca', \"n't\", 'you', 'do', 'self', 'study', '?', 'I', \"'m\", 'confused.', \"Let'r\"]\n"
     ]
    }
   ],
   "source": [
    "from nltk.tokenize import TreebankWordTokenizer\n",
    "\n",
    "tokenizer = TreebankWordTokenizer()\n",
    "print(tokenizer.tokenize(\"Have a nice day. Hope you find this interesting. Why can't you do self study ? I'm confused. Let'r\"))"
   ]
  },
  {
   "cell_type": "code",
   "execution_count": 7,
   "metadata": {},
   "outputs": [
    {
     "name": "stdout",
     "output_type": "stream",
     "text": [
      "['Have', 'a', 'nice', 'day', '.', 'Hope', 'you', 'find', 'this', 'interesting', '.', 'Why', 'can', \"'\", 't', 'you', 'do', 'self', 'study', '?', 'I', \"'\", 'm', 'confused', '.', 'Let', \"'\", 'r']\n"
     ]
    }
   ],
   "source": [
    "from nltk.tokenize import WordPunctTokenizer\n",
    "\n",
    "tokenizer = WordPunctTokenizer()\n",
    "print(tokenizer.tokenize(\"Have a nice day. Hope you find this interesting. Why can't you do self study ? I'm confused. Let'r\"))"
   ]
  },
  {
   "cell_type": "markdown",
   "metadata": {},
   "source": [
    "Notice every punctuation is seperated from word .\n",
    "In Treebank , interesting . is a single word but in WordPunctTokenizer interesting and . are different words"
   ]
  },
  {
   "cell_type": "code",
   "execution_count": 8,
   "metadata": {},
   "outputs": [
    {
     "name": "stdout",
     "output_type": "stream",
     "text": [
      "['Have', 'a', 'nice', 'day', 'Hope', 'you', 'find', 'this', 'interesting', 'Why', \"can'\", 't', 'you', 'do', 'self', 'study', \"I'\", 'm', 'confused']\n",
      "['Have', 'a', 'nice', 'day', 'Hope', 'you', 'find', 'this', 'interesting', 'Why', 'can', 't', 'you', 'do', 'self', 'study', 'I', 'm', 'confused']\n",
      "['Have ', 'a ', 'nice ', 'day.', 'Hope ', 'you ', 'find ', 'this ', 'interesting.', 'Why ', \"can't\", 'you ', 'do ', 'self ', 'study ', \"I'm\", 'confused.']\n"
     ]
    }
   ],
   "source": [
    "import nltk\n",
    "from nltk.tokenize import RegexpTokenizer\n",
    "\n",
    "#Word and apostrophe\n",
    "tokenizer = RegexpTokenizer(\"\\w+'?\")\n",
    "print(tokenizer.tokenize(\"Have a nice day. Hope you find this interesting. Why can't you do self study ? I'm confused.\"))\n",
    "\n",
    "#Word ignoring punctuations \n",
    "tokenizer2 = RegexpTokenizer(\"\\w+\")\n",
    "print(tokenizer2.tokenize(\"Have a nice day. Hope you find this interesting. Why can't you do self study ? I'm confused.\"))\n",
    "\n",
    "\n",
    "#Word with  punctuations \n",
    "tokenizer3 = RegexpTokenizer(\"\\w+'?.?\")\n",
    "print(tokenizer3.tokenize(\"Have a nice day. Hope you find this interesting. Why can't you do self study ? I'm confused.\"))"
   ]
  },
  {
   "cell_type": "code",
   "execution_count": 9,
   "metadata": {},
   "outputs": [
    {
     "data": {
      "text/plain": [
       "[\"Don't\", 'hesitate', 'to', 'ask', 'questions']"
      ]
     },
     "execution_count": 9,
     "metadata": {},
     "output_type": "execute_result"
    }
   ],
   "source": [
    "import nltk\n",
    "from nltk.tokenize import RegexpTokenizer\n",
    "tokenizer=RegexpTokenizer('\\s+',gaps=True)\n",
    "tokenizer.tokenize(\"Don't hesitate to ask questions\")\n"
   ]
  },
  {
   "cell_type": "code",
   "execution_count": 10,
   "metadata": {},
   "outputs": [
    {
     "data": {
      "text/plain": [
       "[' She secured 90.56 % in class X . She is a meritorious student']"
      ]
     },
     "execution_count": 10,
     "metadata": {},
     "output_type": "execute_result"
    }
   ],
   "source": [
    "import nltk\n",
    "sent=\" She secured 90.56 % in class X . \\\n",
    "She is a meritorious student\"\n",
    "\n",
    "from nltk.tokenize import BlanklineTokenizer\n",
    "BlanklineTokenizer().tokenize(sent)"
   ]
  },
  {
   "cell_type": "code",
   "execution_count": 11,
   "metadata": {},
   "outputs": [
    {
     "name": "stdout",
     "output_type": "stream",
     "text": [
      "['She', 'secured', '90.56', '%', 'in', 'class', 'X', '.', 'She', 'is', 'a', 'meritorious', 'student']\n"
     ]
    }
   ],
   "source": [
    "import nltk\n",
    "sent=\" She secured 90.56 % in class X . She is a meritorious student\"\n",
    "from nltk.tokenize import WhitespaceTokenizer\n",
    "print(WhitespaceTokenizer().tokenize(sent))"
   ]
  },
  {
   "cell_type": "code",
   "execution_count": 12,
   "metadata": {},
   "outputs": [
    {
     "name": "stdout",
     "output_type": "stream",
     "text": [
      "['She', 'secured', '90.56', '%', 'in', 'class', 'X.', 'She', 'is', 'a', 'meritorious', 'student']\n"
     ]
    }
   ],
   "source": [
    "import nltk\n",
    "sent= \"She secured 90.56 % in class X. She is a meritorious student\"\n",
    "print(sent.split())"
   ]
  },
  {
   "cell_type": "code",
   "execution_count": 13,
   "metadata": {},
   "outputs": [
    {
     "name": "stdout",
     "output_type": "stream",
     "text": [
      "['She secured 90.56 % in class X ', '. She is a meritorious student']\n",
      "['She secured 90.56 % in class X ', '. She is a meritorious student']\n"
     ]
    }
   ],
   "source": [
    "from nltk.tokenize import LineTokenizer\n",
    "\n",
    "sent= \"She secured 90.56 % in class X \\n. She is a meritorious student\"\n",
    "\n",
    "print(LineTokenizer(blanklines='keep').tokenize(sent))\n",
    "print(LineTokenizer(blanklines='discard').tokenize(sent))\n",
    "\n",
    "# Splits lines based on \\n"
   ]
  },
  {
   "cell_type": "code",
   "execution_count": 14,
   "metadata": {},
   "outputs": [
    {
     "name": "stdout",
     "output_type": "stream",
     "text": [
      "['', 'She', 'secured', '90.56', '%', 'in', 'class', 'X', '\\n.', 'She', 'is', 'a', 'meritorious', 'student\\n']\n"
     ]
    }
   ],
   "source": [
    "# SpaceTokenizer works similar to sent.split(''):\n",
    "\n",
    "import nltk\n",
    "sent=\" She secured 90.56 % in class X \\n. She is a meritorious student\\n\"\n",
    "from nltk.tokenize import SpaceTokenizer\n",
    "print(SpaceTokenizer().tokenize(sent))"
   ]
  },
  {
   "cell_type": "code",
   "execution_count": 15,
   "metadata": {},
   "outputs": [
    {
     "name": "stdout",
     "output_type": "stream",
     "text": [
      "[(1, 4), (5, 12), (13, 18), (19, 20), (21, 23), (24, 29), (30, 31), (33, 34), (35, 38), (39, 41), (42, 43), (44, 55), (56, 63)]\n"
     ]
    }
   ],
   "source": [
    "import nltk\n",
    "from nltk.tokenize import WhitespaceTokenizer\n",
    "sent=\" She secured 90.56 % in class X \\n. She is a meritorious student\\n\"\n",
    "print(list(WhitespaceTokenizer().span_tokenize(sent)))"
   ]
  },
  {
   "cell_type": "code",
   "execution_count": 16,
   "metadata": {},
   "outputs": [
    {
     "name": "stdout",
     "output_type": "stream",
     "text": [
      "[(1, 3), (1, 7), (1, 5), (1, 1), (1, 2), (1, 5), (1, 1), (2, 1), (1, 3), (1, 2), (1, 1), (1, 11), (1, 7)]\n"
     ]
    }
   ],
   "source": [
    "import nltk\n",
    "from nltk.tokenize import WhitespaceTokenizer\n",
    "from nltk.tokenize.util import spans_to_relative\n",
    "sent=\" She secured 90.56 % in class X \\n. She is a meritorious student\\n\"\n",
    "print(list(spans_to_relative(WhitespaceTokenizer().span_tokenize(sent))))"
   ]
  },
  {
   "cell_type": "code",
   "execution_count": 17,
   "metadata": {},
   "outputs": [
    {
     "name": "stdout",
     "output_type": "stream",
     "text": [
      "[(1, 4), (5, 12), (13, 18), (19, 20), (21, 23), (24, 29), (30, 31), (32, 34), (35, 38), (39, 41), (42, 43), (44, 55), (56, 64)]\n"
     ]
    }
   ],
   "source": [
    "# nltk.tokenize.util.string_span_tokenize(sent,separator) will return the offsets of tokens in sent by splitting at each incidence of the separator:\n",
    "import nltk\n",
    "from nltk.tokenize.util import string_span_tokenize\n",
    "sent=\" She secured 90.56 % in class X \\n. She is a meritorious student\\n\"\n",
    "print(list(string_span_tokenize(sent, \" \")))\n"
   ]
  },
  {
   "cell_type": "markdown",
   "metadata": {},
   "source": [
    "---"
   ]
  },
  {
   "cell_type": "markdown",
   "metadata": {},
   "source": [
    "Regular Expression from analyticsvidhya first before proceeding . \n",
    "\n",
    "<a href='https://www.analyticsvidhya.com/blog/2015/06/regular-expression-python/'> Regex AnalyticsVidhya </a>\n"
   ]
  },
  {
   "cell_type": "markdown",
   "metadata": {},
   "source": [
    "---"
   ]
  },
  {
   "cell_type": "markdown",
   "metadata": {},
   "source": [
    "### Normalization"
   ]
  },
  {
   "cell_type": "code",
   "execution_count": 1,
   "metadata": {},
   "outputs": [
    {
     "name": "stdout",
     "output_type": "stream",
     "text": [
      "[['It', 'is', 'a', 'pleasant', 'evening'], ['Guests', 'who', 'came', 'from', 'US', 'arrived', 'at', 'the', 'venue'], ['Food', 'was', 'tasty']]\n",
      "[['It', 'is', 'a', 'pleasant', 'evening', '.'], ['Guests', ',', 'who', 'came', 'from', 'US', 'arrived', 'at', 'the', 'venue'], ['Food', 'was', 'tasty', '.']]\n"
     ]
    }
   ],
   "source": [
    "import re\n",
    "import string\n",
    "text=[\" It is a pleasant evening.\",\"Guests, who came from US arrived at the venue\",\"Food was tasty.\"]\n",
    "\n",
    "from nltk.tokenize import word_tokenize\n",
    "tokenized_docs=[word_tokenize(doc) for doc in text]\n",
    "x=re.compile('[%s]' % re.escape(string.punctuation))\n",
    "tokenized_docs_no_punctuation = []\n",
    "for review in tokenized_docs:\n",
    "    new_review = []\n",
    "    for token in review:\n",
    "        new_token = x.sub(u'', token) \n",
    "        if not new_token == u'':\n",
    "            new_review.append(new_token)\n",
    "    tokenized_docs_no_punctuation.append(new_review)\n",
    "print(tokenized_docs_no_punctuation)\n",
    "print(tokenized_docs)"
   ]
  },
  {
   "cell_type": "code",
   "execution_count": 2,
   "metadata": {},
   "outputs": [
    {
     "data": {
      "text/plain": [
       "'Hello Mr.de'"
      ]
     },
     "execution_count": 2,
     "metadata": {},
     "output_type": "execute_result"
    }
   ],
   "source": [
    "import re\n",
    "result = re.sub('abc',  '' ,'Hello Mr.abcde')\n",
    "\n",
    "result"
   ]
  },
  {
   "cell_type": "code",
   "execution_count": 21,
   "metadata": {},
   "outputs": [
    {
     "name": "stdout",
     "output_type": "stream",
     "text": [
      "hardwork is key to success\n",
      "HARDWORK IS KEY TO SUCCESS\n"
     ]
    }
   ],
   "source": [
    "text='HARdWork IS KEy to SUCCESS'\n",
    "print(text.lower())\n",
    "print(text.upper())\n"
   ]
  },
  {
   "cell_type": "markdown",
   "metadata": {},
   "source": [
    "#### Stopwords"
   ]
  },
  {
   "cell_type": "code",
   "execution_count": 22,
   "metadata": {},
   "outputs": [
    {
     "name": "stdout",
     "output_type": "stream",
     "text": [
      "['i', 'me', 'my', 'myself', 'we', 'our', 'ours', 'ourselves', 'you', \"you're\", \"you've\", \"you'll\", \"you'd\", 'your', 'yours', 'yourself', 'yourselves', 'he', 'him', 'his', 'himself', 'she', \"she's\", 'her', 'hers', 'herself', 'it', \"it's\", 'its', 'itself', 'they', 'them', 'their', 'theirs', 'themselves', 'what', 'which', 'who', 'whom', 'this', 'that', \"that'll\", 'these', 'those', 'am', 'is', 'are', 'was', 'were', 'be', 'been', 'being', 'have', 'has', 'had', 'having', 'do', 'does', 'did', 'doing', 'a', 'an', 'the', 'and', 'but', 'if', 'or', 'because', 'as', 'until', 'while', 'of', 'at', 'by', 'for', 'with', 'about', 'against', 'between', 'into', 'through', 'during', 'before', 'after', 'above', 'below', 'to', 'from', 'up', 'down', 'in', 'out', 'on', 'off', 'over', 'under', 'again', 'further', 'then', 'once', 'here', 'there', 'when', 'where', 'why', 'how', 'all', 'any', 'both', 'each', 'few', 'more', 'most', 'other', 'some', 'such', 'no', 'nor', 'not', 'only', 'own', 'same', 'so', 'than', 'too', 'very', 's', 't', 'can', 'will', 'just', 'don', \"don't\", 'should', \"should've\", 'now', 'd', 'll', 'm', 'o', 're', 've', 'y', 'ain', 'aren', \"aren't\", 'couldn', \"couldn't\", 'didn', \"didn't\", 'doesn', \"doesn't\", 'hadn', \"hadn't\", 'hasn', \"hasn't\", 'haven', \"haven't\", 'isn', \"isn't\", 'ma', 'mightn', \"mightn't\", 'mustn', \"mustn't\", 'needn', \"needn't\", 'shan', \"shan't\", 'shouldn', \"shouldn't\", 'wasn', \"wasn't\", 'weren', \"weren't\", 'won', \"won't\", 'wouldn', \"wouldn't\"]\n"
     ]
    }
   ],
   "source": [
    "from nltk.corpus import stopwords\n",
    "\n",
    "all_stop = stopwords.words('english')\n",
    "\n",
    "print(all_stop)"
   ]
  },
  {
   "cell_type": "code",
   "execution_count": 23,
   "metadata": {},
   "outputs": [
    {
     "data": {
      "text/plain": [
       "'!\"#$%&\\'()*+,-./:;<=>?@[\\\\]^_`{|}~'"
      ]
     },
     "execution_count": 23,
     "metadata": {},
     "output_type": "execute_result"
    }
   ],
   "source": [
    "string.punctuation"
   ]
  },
  {
   "cell_type": "code",
   "execution_count": 24,
   "metadata": {},
   "outputs": [
    {
     "name": "stdout",
     "output_type": "stream",
     "text": [
      "['Saudi', 'Arabia', '’', 'top', 'government-funded', 'think', 'tank', 'studying', 'possible', 'effects', 'oil', 'markets', 'breakup', 'OPEC', 'remarkable', 'research', 'effort', 'country', 'dominated', 'oil', 'cartel', 'nearly', '60', 'years.The', 'effort', 'coincides', 'new', 'pressures', 'Saudi', 'government', 'including', 'U.S.', 'President', 'Trump', 'accused', 'cartel', 'pushing', 'oil', 'prices', 'investors', 'distanced', 'kingdom', 'brutal', 'killing', 'U.S.-based', 'Saudi', 'journalist.While', 'think', 'tank', '’', 'president', 'Adam', 'Sieminski', 'said', 'study', '’', 'triggered', 'Mr.', 'Trump', '’', 'statements', 'senior', 'adviser', 'familiar', 'project', 'said', 'provided', 'opportunity', 'take', 'account', 'criticism', 'Washington', 'Depending', 'findings', 'study', 'could', 'offer', 'defense', 'cartel', 'Saudi', 'role', 'Saudi', 'Arabia', '’', 'top', 'government-funded', 'think', 'tank', 'studying', 'possible', 'effects', 'oil', 'markets', 'breakup', 'OPEC', 'remarkable', 'research', 'effort', 'country', 'dominated', 'oil', 'cartel', 'nearly', '60', 'years.The', 'effort', 'coincides', 'new', 'pressures', 'Saudi', 'government', 'including', 'U.S.', 'President', 'Trump', 'accused', 'cartel', 'pushing', 'oil', 'prices', 'investors', 'distanced', 'kingdom', 'brutal', 'killing', 'U.S.-based', 'Saudi', 'journalist.While', 'think', 'tank', '’', 'president', 'Adam', 'Sieminski', 'said', 'study', '’', 'triggered', 'Mr.', 'Trump', '’', 'statements', 'senior', 'adviser', 'familiar', 'project', 'said', 'provided', 'opportunity', 'take', 'account', 'criticism', 'Washington', 'Depending', 'findings', 'study', 'could', 'offer', 'defense', 'cartel', 'Saudi', 'role']\n"
     ]
    }
   ],
   "source": [
    "#Fetch an article from news and remove stopwords\n",
    "\n",
    "txt =\"Saudi Arabia’s top government-funded think tank is studying the possible effects on oil markets of a breakup of OPEC, a remarkable research effort for a country that has dominated the oil cartel for nearly 60 years.\\\n",
    "The effort coincides with new pressures on the Saudi government, including from the U.S., where President Trump has accused the cartel of pushing up oil prices, and from investors who distanced themselves from the kingdom after the brutal killing of a U.S.-based Saudi journalist.\\\n",
    "While the think tank’s president, Adam Sieminski, said the study hadn’t been triggered by Mr. Trump’s statements, a senior adviser familiar with the project said it provided an opportunity to take into account the criticism from Washington. Depending on the findings, the study could offer a defense of the cartel and the Saudi role in it.\"\n",
    "\n",
    "from nltk.tokenize import word_tokenize,sent_tokenize\n",
    "from nltk.corpus import stopwords\n",
    "\n",
    "sents = sent_tokenize(txt)\n",
    "\n",
    "stp_wrds = stopwords.words()\n",
    "\n",
    "final_words =[]\n",
    "\n",
    "for s in sents:\n",
    "    wrds = word_tokenize(txt)\n",
    "    for wrd in wrds:\n",
    "        if (wrd in string.punctuation) or (wrd in stp_wrds):\n",
    "            pass\n",
    "\n",
    "        else:\n",
    "            final_words.append(wrd)\n",
    "\n",
    "print(final_words)\n"
   ]
  },
  {
   "cell_type": "code",
   "execution_count": 25,
   "metadata": {},
   "outputs": [
    {
     "name": "stdout",
     "output_type": "stream",
     "text": [
      "[nltk_data] Downloading package reuters to\n",
      "[nltk_data]     C:\\Users\\MASTER\\AppData\\Roaming\\nltk_data...\n",
      "[nltk_data]   Unzipping corpora\\reuters.zip.\n"
     ]
    },
    {
     "data": {
      "text/plain": [
       "True"
      ]
     },
     "execution_count": 25,
     "metadata": {},
     "output_type": "execute_result"
    }
   ],
   "source": [
    "#Run only if reuters is not present in corpora folder\n",
    "import nltk\n",
    "nltk.download('reuters')\n"
   ]
  },
  {
   "cell_type": "code",
   "execution_count": 26,
   "metadata": {},
   "outputs": [
    {
     "data": {
      "text/plain": [
       "0.5766118034965496"
      ]
     },
     "execution_count": 26,
     "metadata": {},
     "output_type": "execute_result"
    }
   ],
   "source": [
    "def para_fraction(text):\n",
    "    stopwords = nltk.corpus.stopwords.words('english')\n",
    "    para = [w for w in text if w.lower() not in stopwords]\n",
    "    return len(para) / len(text)\n",
    "\n",
    "para_fraction(nltk.corpus.gutenberg.words())\n"
   ]
  },
  {
   "cell_type": "markdown",
   "metadata": {},
   "source": [
    "#### Substituting and correcting tokens"
   ]
  },
  {
   "cell_type": "code",
   "execution_count": 27,
   "metadata": {},
   "outputs": [
    {
     "name": "stdout",
     "output_type": "stream",
     "text": [
      "I simply can not allow this to happen , rather I shouldn not but since you are saying this I will see \n"
     ]
    }
   ],
   "source": [
    "#Read about re.compile and re.sub from analytics vidhya first\n",
    "\n",
    "\n",
    "import re\n",
    "\n",
    "txt =\"I simply can't allow this to happen , rather I shouldn't but since you're saying this I'll see \"\n",
    "\n",
    "replacers =[(r'can\\'t' , 'can not'),(r'(\\w+)\\'t' , '\\g<1> not') ,(r'(\\w+)\\'re','\\g<1> are'),(r'(\\w+)\\'ll','\\g<1> will')]\n",
    "\n",
    "#g stands for group 1 which in above case is \\w\n",
    "\n",
    "patterns = [(re.compile(regex), repl) for (regex, repl) in  replacers]\n",
    "\n",
    "# replacement_patterns = [\n",
    "# (r'won\\'t', 'will not'),\n",
    "# (r'can\\'t', 'cannot'),\n",
    "# (r'i\\'m', 'i am'),\n",
    "# (r'ain\\'t', 'is not'),\n",
    "# (r'(\\w+)\\'ll', '\\g<1> will'),\n",
    "# (r'(\\w+)n\\'t', '\\g<1> not'),\n",
    "# (r'(\\w+)\\'ve', '\\g<1> have'),\n",
    "# (r'(\\w+)\\'s', '\\g<1> is'),\n",
    "# (r'(\\w+)\\'re', '\\g<1> are'),\n",
    "# (r'(\\w+)\\'d', '\\g<1> would')\n",
    "# ]\n",
    "\n",
    "\n",
    "for pattern,repl in patterns:\n",
    "    txt = re.sub(pattern,repl,txt)\n",
    "\n",
    "print(txt)"
   ]
  },
  {
   "cell_type": "markdown",
   "metadata": {},
   "source": [
    "#### Dealing with repeating characters"
   ]
  },
  {
   "cell_type": "code",
   "execution_count": 28,
   "metadata": {
    "collapsed": true
   },
   "outputs": [],
   "source": [
    "#function to remove repeating chars\n",
    "def remove_repeat_chars(wrd):\n",
    "    new_wrd=''\n",
    "    for i in wrd:\n",
    "        if new_wrd=='':\n",
    "            new_wrd=new_wrd+i\n",
    "        elif i == new_wrd[-1]:\n",
    "            continue\n",
    "        else:\n",
    "            new_wrd=new_wrd+i\n",
    "    return(new_wrd)\n"
   ]
  },
  {
   "cell_type": "code",
   "execution_count": 29,
   "metadata": {},
   "outputs": [
    {
     "name": "stdout",
     "output_type": "stream",
     "text": [
      "['tattoo', 'lost', 'fat', 'magnanimity', 'Oh', 'Thanks!']\n"
     ]
    }
   ],
   "source": [
    "#Step 1: Check whether word is in the dictionary (wordnet). If yes then avoid performing any action\n",
    "#Step2 : Call a function to remove repeating characters\n",
    "\n",
    "import re\n",
    "from nltk.corpus import wordnet\n",
    "word_list =['tattoo','lost','fat','magnanimity','Ohhhhh','Thaaaannnks!']\n",
    "\n",
    "final_list=[]\n",
    "for wrd in word_list:\n",
    "    if wordnet.synsets(wrd): # It checks the word is present in wordnet corpus\n",
    "        final_list.append(wrd)\n",
    "    else :\n",
    "        final_list.append(remove_repeat_chars(wrd))\n",
    "print(final_list)\n",
    "        \n"
   ]
  },
  {
   "cell_type": "markdown",
   "metadata": {},
   "source": [
    "#### Replace a word by a synonym"
   ]
  },
  {
   "cell_type": "code",
   "execution_count": 30,
   "metadata": {},
   "outputs": [
    {
     "name": "stdout",
     "output_type": "stream",
     "text": [
      "congratulations ! ! Mr.A on your mathematics test scores .\n"
     ]
    }
   ],
   "source": [
    "word_dict ={'congrats':'congratulations' , 'maths':'mathematics'}\n",
    "\n",
    "txt1 =\"Congrats!! Mr.A on your maths test scores.\"\n",
    "\n",
    "from nltk.tokenize import word_tokenize\n",
    "\n",
    "all_words = word_tokenize(txt1)\n",
    "\n",
    "new_words=[]\n",
    "\n",
    "for i in all_words:\n",
    "    if i.lower() in word_dict.keys():\n",
    "        new_words.append(word_dict.get(i.lower()))\n",
    "    else:\n",
    "        new_words.append(i)\n",
    "        \n",
    "print(' '.join(new_words))"
   ]
  },
  {
   "cell_type": "markdown",
   "metadata": {},
   "source": [
    "---"
   ]
  },
  {
   "cell_type": "markdown",
   "metadata": {},
   "source": [
    "#### Frequency distribution of words in piece of text"
   ]
  },
  {
   "cell_type": "code",
   "execution_count": 31,
   "metadata": {},
   "outputs": [
    {
     "name": "stdout",
     "output_type": "stream",
     "text": [
      "\n",
      "Key => Saudi\n",
      "Count => 4\n",
      "\n",
      "Key => Arabia\n",
      "Count => 1\n",
      "\n",
      "Key => ’\n",
      "Count => 4\n",
      "\n",
      "Key => s\n",
      "Count => 3\n",
      "\n",
      "Key => top\n",
      "Count => 1\n",
      "\n",
      "Key => government-funded\n",
      "Count => 1\n",
      "\n",
      "Key => think\n",
      "Count => 2\n",
      "\n",
      "Key => tank\n",
      "Count => 2\n",
      "\n",
      "Key => is\n",
      "Count => 1\n",
      "\n",
      "Key => studying\n",
      "Count => 1\n",
      "\n",
      "Key => the\n",
      "Count => 15\n",
      "\n",
      "Key => possible\n",
      "Count => 1\n",
      "\n",
      "Key => effects\n",
      "Count => 1\n",
      "\n",
      "Key => on\n",
      "Count => 3\n",
      "\n",
      "Key => oil\n",
      "Count => 3\n",
      "\n",
      "Key => markets\n",
      "Count => 1\n",
      "\n",
      "Key => of\n",
      "Count => 5\n",
      "\n",
      "Key => a\n",
      "Count => 6\n",
      "\n",
      "Key => breakup\n",
      "Count => 1\n",
      "\n",
      "Key => OPEC\n",
      "Count => 1\n",
      "\n",
      "Key => ,\n",
      "Count => 8\n",
      "\n",
      "Key => remarkable\n",
      "Count => 1\n",
      "\n",
      "Key => research\n",
      "Count => 1\n",
      "\n",
      "Key => effort\n",
      "Count => 2\n",
      "\n",
      "Key => for\n",
      "Count => 2\n",
      "\n",
      "Key => country\n",
      "Count => 1\n",
      "\n",
      "Key => that\n",
      "Count => 1\n",
      "\n",
      "Key => has\n",
      "Count => 2\n",
      "\n",
      "Key => dominated\n",
      "Count => 1\n",
      "\n",
      "Key => cartel\n",
      "Count => 3\n",
      "\n",
      "Key => nearly\n",
      "Count => 1\n",
      "\n",
      "Key => 60\n",
      "Count => 1\n",
      "\n",
      "Key => years.The\n",
      "Count => 1\n",
      "\n",
      "Key => coincides\n",
      "Count => 1\n",
      "\n",
      "Key => with\n",
      "Count => 2\n",
      "\n",
      "Key => new\n",
      "Count => 1\n",
      "\n",
      "Key => pressures\n",
      "Count => 1\n",
      "\n",
      "Key => government\n",
      "Count => 1\n",
      "\n",
      "Key => including\n",
      "Count => 1\n",
      "\n",
      "Key => from\n",
      "Count => 4\n",
      "\n",
      "Key => U.S.\n",
      "Count => 1\n",
      "\n",
      "Key => where\n",
      "Count => 1\n",
      "\n",
      "Key => President\n",
      "Count => 1\n",
      "\n",
      "Key => Trump\n",
      "Count => 2\n",
      "\n",
      "Key => accused\n",
      "Count => 1\n",
      "\n",
      "Key => pushing\n",
      "Count => 1\n",
      "\n",
      "Key => up\n",
      "Count => 1\n",
      "\n",
      "Key => prices\n",
      "Count => 1\n",
      "\n",
      "Key => and\n",
      "Count => 2\n",
      "\n",
      "Key => investors\n",
      "Count => 1\n",
      "\n",
      "Key => who\n",
      "Count => 1\n",
      "\n",
      "Key => distanced\n",
      "Count => 1\n",
      "\n",
      "Key => themselves\n",
      "Count => 1\n",
      "\n",
      "Key => kingdom\n",
      "Count => 1\n",
      "\n",
      "Key => after\n",
      "Count => 1\n",
      "\n",
      "Key => brutal\n",
      "Count => 1\n",
      "\n",
      "Key => killing\n",
      "Count => 1\n",
      "\n",
      "Key => U.S.-based\n",
      "Count => 1\n",
      "\n",
      "Key => journalist.While\n",
      "Count => 1\n",
      "\n",
      "Key => president\n",
      "Count => 1\n",
      "\n",
      "Key => Adam\n",
      "Count => 1\n",
      "\n",
      "Key => Sieminski\n",
      "Count => 1\n",
      "\n",
      "Key => said\n",
      "Count => 2\n",
      "\n",
      "Key => study\n",
      "Count => 2\n",
      "\n",
      "Key => hadn\n",
      "Count => 1\n",
      "\n",
      "Key => t\n",
      "Count => 1\n",
      "\n",
      "Key => been\n",
      "Count => 1\n",
      "\n",
      "Key => triggered\n",
      "Count => 1\n",
      "\n",
      "Key => by\n",
      "Count => 1\n",
      "\n",
      "Key => Mr.\n",
      "Count => 1\n",
      "\n",
      "Key => statements\n",
      "Count => 1\n",
      "\n",
      "Key => senior\n",
      "Count => 1\n",
      "\n",
      "Key => adviser\n",
      "Count => 1\n",
      "\n",
      "Key => familiar\n",
      "Count => 1\n",
      "\n",
      "Key => project\n",
      "Count => 1\n",
      "\n",
      "Key => it\n",
      "Count => 2\n",
      "\n",
      "Key => provided\n",
      "Count => 1\n",
      "\n",
      "Key => an\n",
      "Count => 1\n",
      "\n",
      "Key => opportunity\n",
      "Count => 1\n",
      "\n",
      "Key => to\n",
      "Count => 1\n",
      "\n",
      "Key => take\n",
      "Count => 1\n",
      "\n",
      "Key => into\n",
      "Count => 1\n",
      "\n",
      "Key => account\n",
      "Count => 1\n",
      "\n",
      "Key => criticism\n",
      "Count => 1\n",
      "\n",
      "Key => Washington\n",
      "Count => 1\n",
      "\n",
      "Key => .\n",
      "Count => 2\n",
      "\n",
      "Key => Depending\n",
      "Count => 1\n",
      "\n",
      "Key => findings\n",
      "Count => 1\n",
      "\n",
      "Key => could\n",
      "Count => 1\n",
      "\n",
      "Key => offer\n",
      "Count => 1\n",
      "\n",
      "Key => defense\n",
      "Count => 1\n",
      "\n",
      "Key => role\n",
      "Count => 1\n",
      "\n",
      "Key => in\n",
      "Count => 1\n"
     ]
    }
   ],
   "source": [
    "txt =\"Saudi Arabia’s top government-funded think tank is studying the possible effects on oil markets of a breakup of OPEC, a remarkable research effort for a country that has dominated the oil cartel for nearly 60 years.\\\n",
    "The effort coincides with new pressures on the Saudi government, including from the U.S., where President Trump has accused the cartel of pushing up oil prices, and from investors who distanced themselves from the kingdom after the brutal killing of a U.S.-based Saudi journalist.\\\n",
    "While the think tank’s president, Adam Sieminski, said the study hadn’t been triggered by Mr. Trump’s statements, a senior adviser familiar with the project said it provided an opportunity to take into account the criticism from Washington. Depending on the findings, the study could offer a defense of the cartel and the Saudi role in it.\"\n",
    "\n",
    "\n",
    "from nltk.tokenize import word_tokenize\n",
    "from nltk.probability import FreqDist\n",
    "\n",
    "all_words =word_tokenize(txt)\n",
    "\n",
    "fdist1 = FreqDist(all_words)\n",
    "\n",
    "vocabulary1 = fdist1.keys()\n",
    "\n",
    "for key in fdist1.keys():\n",
    "    print('\\nKey =>',key)\n",
    "    print('Count =>',fdist1[key])\n",
    "\n",
    "\n"
   ]
  },
  {
   "cell_type": "markdown",
   "metadata": {},
   "source": [
    "#### Zipf's law'\n",
    "\n",
    "Zipf's law states that the frequency of a token in a text is directly proportional to its rank or position in the sorted list. This law describes how tokens are distributed\n",
    "in languages: some tokens occur very frequently, some occur with intermediate frequency, and some tokens rarely occur"
   ]
  },
  {
   "cell_type": "code",
   "execution_count": 32,
   "metadata": {},
   "outputs": [
    {
     "name": "stdout",
     "output_type": "stream",
     "text": [
      "[1, 2, 3, 4, 5, 6, 7, 8, 9, 10, 11, 12, 13, 14, 15, 16, 17, 18, 19, 20, 21, 22, 23, 24, 25, 26, 27, 28, 29, 30, 31, 32, 33, 34, 35, 36, 37, 38, 39, 40, 41, 42, 43, 44, 45, 46, 47, 48, 49, 50, 51, 52, 53, 54, 55, 56, 57, 58, 59, 60, 61, 62, 63, 64, 65, 66, 67, 68, 69, 70, 71, 72, 73, 74, 75, 76, 77, 78, 79, 80, 81, 82, 83, 84, 85, 86, 87, 88, 89, 90, 91, 92, 93]\n",
      "\n",
      " [4, 1, 4, 3, 1, 1, 2, 2, 1, 1, 15, 1, 1, 3, 3, 1, 5, 6, 1, 1, 8, 1, 1, 2, 2, 1, 1, 2, 1, 3, 1, 1, 1, 1, 2, 1, 1, 1, 1, 4, 1, 1, 1, 2, 1, 1, 1, 1, 2, 1, 1, 1, 1, 1, 1, 1, 1, 1, 1, 1, 1, 1, 2, 2, 1, 1, 1, 1, 1, 1, 1, 1, 1, 1, 1, 2, 1, 1, 1, 1, 1, 1, 1, 1, 1, 2, 1, 1, 1, 1, 1, 1, 1]\n"
     ]
    }
   ],
   "source": [
    "txt =\"Saudi Arabia’s top government-funded think tank is studying the possible effects on oil markets of a breakup of OPEC, a remarkable research effort for a country that has dominated the oil cartel for nearly 60 years.\\\n",
    "The effort coincides with new pressures on the Saudi government, including from the U.S., where President Trump has accused the cartel of pushing up oil prices, and from investors who distanced themselves from the kingdom after the brutal killing of a U.S.-based Saudi journalist.\\\n",
    "While the think tank’s president, Adam Sieminski, said the study hadn’t been triggered by Mr. Trump’s statements, a senior adviser familiar with the project said it provided an opportunity to take into account the criticism from Washington. Depending on the findings, the study could offer a defense of the cartel and the Saudi role in it.\"\n",
    "\n",
    "\n",
    "from nltk.probability import FreqDist\n",
    "from nltk.tokenize import word_tokenize\n",
    "\n",
    "all_wrds =word_tokenize(txt)\n",
    "\n",
    "fd = FreqDist(all_wrds)\n",
    "\n",
    "ranks=[]\n",
    "frequencies =[]\n",
    "\n",
    "rank=0\n",
    "for k in fd.keys():\n",
    "    rank=rank+1\n",
    "    ranks.append(rank)\n",
    "    frequencies.append(fd[k])\n",
    "\n",
    "print(ranks)\n",
    "\n",
    "print('\\n',frequencies)\n"
   ]
  },
  {
   "cell_type": "code",
   "execution_count": 33,
   "metadata": {},
   "outputs": [
    {
     "name": "stderr",
     "output_type": "stream",
     "text": [
      "D:\\Python\\lib\\site-packages\\ipykernel_launcher.py:4: UserWarning: \n",
      "This call to matplotlib.use() has no effect because the backend has already\n",
      "been chosen; matplotlib.use() must be called *before* pylab, matplotlib.pyplot,\n",
      "or matplotlib.backends is imported for the first time.\n",
      "\n",
      "The backend was *originally* set to 'module://ipykernel.pylab.backend_inline' by the following code:\n",
      "  File \"D:\\Python\\lib\\runpy.py\", line 193, in _run_module_as_main\n",
      "    \"__main__\", mod_spec)\n",
      "  File \"D:\\Python\\lib\\runpy.py\", line 85, in _run_code\n",
      "    exec(code, run_globals)\n",
      "  File \"D:\\Python\\lib\\site-packages\\ipykernel_launcher.py\", line 16, in <module>\n",
      "    app.launch_new_instance()\n",
      "  File \"D:\\Python\\lib\\site-packages\\traitlets\\config\\application.py\", line 658, in launch_instance\n",
      "    app.start()\n",
      "  File \"D:\\Python\\lib\\site-packages\\ipykernel\\kernelapp.py\", line 477, in start\n",
      "    ioloop.IOLoop.instance().start()\n",
      "  File \"D:\\Python\\lib\\site-packages\\zmq\\eventloop\\ioloop.py\", line 177, in start\n",
      "    super(ZMQIOLoop, self).start()\n",
      "  File \"D:\\Python\\lib\\site-packages\\tornado\\ioloop.py\", line 888, in start\n",
      "    handler_func(fd_obj, events)\n",
      "  File \"D:\\Python\\lib\\site-packages\\tornado\\stack_context.py\", line 277, in null_wrapper\n",
      "    return fn(*args, **kwargs)\n",
      "  File \"D:\\Python\\lib\\site-packages\\zmq\\eventloop\\zmqstream.py\", line 440, in _handle_events\n",
      "    self._handle_recv()\n",
      "  File \"D:\\Python\\lib\\site-packages\\zmq\\eventloop\\zmqstream.py\", line 472, in _handle_recv\n",
      "    self._run_callback(callback, msg)\n",
      "  File \"D:\\Python\\lib\\site-packages\\zmq\\eventloop\\zmqstream.py\", line 414, in _run_callback\n",
      "    callback(*args, **kwargs)\n",
      "  File \"D:\\Python\\lib\\site-packages\\tornado\\stack_context.py\", line 277, in null_wrapper\n",
      "    return fn(*args, **kwargs)\n",
      "  File \"D:\\Python\\lib\\site-packages\\ipykernel\\kernelbase.py\", line 283, in dispatcher\n",
      "    return self.dispatch_shell(stream, msg)\n",
      "  File \"D:\\Python\\lib\\site-packages\\ipykernel\\kernelbase.py\", line 235, in dispatch_shell\n",
      "    handler(stream, idents, msg)\n",
      "  File \"D:\\Python\\lib\\site-packages\\ipykernel\\kernelbase.py\", line 399, in execute_request\n",
      "    user_expressions, allow_stdin)\n",
      "  File \"D:\\Python\\lib\\site-packages\\ipykernel\\ipkernel.py\", line 196, in do_execute\n",
      "    res = shell.run_cell(code, store_history=store_history, silent=silent)\n",
      "  File \"D:\\Python\\lib\\site-packages\\ipykernel\\zmqshell.py\", line 533, in run_cell\n",
      "    return super(ZMQInteractiveShell, self).run_cell(*args, **kwargs)\n",
      "  File \"D:\\Python\\lib\\site-packages\\IPython\\core\\interactiveshell.py\", line 2698, in run_cell\n",
      "    interactivity=interactivity, compiler=compiler, result=result)\n",
      "  File \"D:\\Python\\lib\\site-packages\\IPython\\core\\interactiveshell.py\", line 2802, in run_ast_nodes\n",
      "    if self.run_code(code, result):\n",
      "  File \"D:\\Python\\lib\\site-packages\\IPython\\core\\interactiveshell.py\", line 2862, in run_code\n",
      "    exec(code_obj, self.user_global_ns, self.user_ns)\n",
      "  File \"<ipython-input-33-24c46749c5d1>\", line 3, in <module>\n",
      "    import matplotlib.pyplot as plt\n",
      "  File \"D:\\Python\\lib\\site-packages\\matplotlib\\pyplot.py\", line 69, in <module>\n",
      "    from matplotlib.backends import pylab_setup\n",
      "  File \"D:\\Python\\lib\\site-packages\\matplotlib\\backends\\__init__.py\", line 14, in <module>\n",
      "    line for line in traceback.format_stack()\n",
      "\n",
      "\n",
      "  after removing the cwd from sys.path.\n"
     ]
    },
    {
     "data": {
      "image/png": "[encoded data removed]",
      "text/plain": [
       "<matplotlib.figure.Figure at 0x201316b0080>"
      ]
     },
     "metadata": {},
     "output_type": "display_data"
    }
   ],
   "source": [
    "#copy pasted code\n",
    "import matplotlib\n",
    "import matplotlib.pyplot as plt\n",
    "matplotlib.use('TkAgg')\n",
    "\n",
    "plt.loglog(ranks, frequencies)\n",
    "plt.xlabel('frequency(f)', fontsize=14, fontweight='bold')\n",
    "plt.ylabel('rank(r)', fontsize=14, fontweight='bold')\n",
    "plt.grid(True)\n",
    "plt.show()\n",
    "\n"
   ]
  },
  {
   "cell_type": "markdown",
   "metadata": {},
   "source": [
    "#### Similarity measures"
   ]
  },
  {
   "cell_type": "code",
   "execution_count": 34,
   "metadata": {},
   "outputs": [
    {
     "name": "stdout",
     "output_type": "stream",
     "text": [
      "0.6666666666666666\n",
      "0.6666666666666666\n",
      "0.8\n"
     ]
    }
   ],
   "source": [
    "from nltk.metrics import *\n",
    "training='PERSON OTHER PERSON OTHER OTHER ORGANIZATION'.split()\n",
    "testing='PERSON OTHER OTHER OTHER OTHER OTHER'.split()\n",
    "\n",
    "print(accuracy(training,testing))\n",
    "\n",
    "trainset=set(training)\n",
    "testset=set(testing)\n",
    "precision(trainset,testset)\n",
    "\n",
    "print(recall(trainset,testset))\n",
    "print(f_measure(trainset,testset))\n"
   ]
  },
  {
   "cell_type": "markdown",
   "metadata": {},
   "source": [
    "<h3> Edit Distance - Levenshtein edit distance </h3>"
   ]
  },
  {
   "cell_type": "code",
   "execution_count": 35,
   "metadata": {},
   "outputs": [
    {
     "name": "stdout",
     "output_type": "stream",
     "text": [
      "3\n",
      "7\n"
     ]
    }
   ],
   "source": [
    "import nltk\n",
    "from nltk.metrics import *\n",
    "print(edit_distance(\"relate\",\"relation\"))\n",
    "print(edit_distance(\"suggestion\",\"calculation\"))"
   ]
  },
  {
   "cell_type": "markdown",
   "metadata": {},
   "source": [
    "<h3> Jaccard coefficient </h3>\n",
    "\n",
    "<p>\n",
    "Jaccard's coefficient, or Tanimoto coefficient, may be defined as a measure of the\n",
    "overlap of two sets, X and Y.<br/>\n",
    "It may be defined as follows:<br/>\n",
    "• Jaccard(X,Y)=|X∩Y|/|XUY|<br/>\n",
    "• Jaccard(X,X)=1<br/>\n",
    "• Jaccard(X,Y)=0 if X∩Y=0 <br/>\n",
    "</p>"
   ]
  },
  {
   "cell_type": "code",
   "execution_count": 36,
   "metadata": {
    "collapsed": true
   },
   "outputs": [],
   "source": [
    "def jacc_similarity(query, document):\n",
    "    first=set(query).intersection(set(document))\n",
    "    second=set(query).union(set(document))\n",
    "    return len(first)/len(second)"
   ]
  },
  {
   "cell_type": "code",
   "execution_count": 37,
   "metadata": {},
   "outputs": [
    {
     "name": "stdout",
     "output_type": "stream",
     "text": [
      "0.6\n"
     ]
    }
   ],
   "source": [
    "# Let's have a look at the implementation of Jaccard's similarity coefficient using NLTK:\n",
    "import nltk\n",
    "from nltk.metrics import *\n",
    "X=set([10,20,30,40])\n",
    "Y=set([20,30,60])\n",
    "print(jaccard_distance(X,Y))\n"
   ]
  },
  {
   "cell_type": "markdown",
   "metadata": {},
   "source": [
    "<h3> Binary Distance </h3>"
   ]
  },
  {
   "cell_type": "markdown",
   "metadata": {},
   "source": [
    "Binary distance is a string similarity metric. It returns the value 0.0 if two labels are identical;\n",
    "otherwise, it returns the value 1.0."
   ]
  },
  {
   "cell_type": "code",
   "execution_count": 38,
   "metadata": {
    "collapsed": true
   },
   "outputs": [],
   "source": [
    "def binary_distance(label1, label2):\n",
    "    return 0.0 if label1 == label2 else 1.0"
   ]
  },
  {
   "cell_type": "code",
   "execution_count": 39,
   "metadata": {},
   "outputs": [
    {
     "data": {
      "text/plain": [
       "1.0"
      ]
     },
     "execution_count": 39,
     "metadata": {},
     "output_type": "execute_result"
    }
   ],
   "source": [
    "import nltk\n",
    "from nltk.metrics import *\n",
    "X = set([10,20,30,40])\n",
    "Y= set([30,50,70])\n",
    "binary_distance(X, Y)"
   ]
  },
  {
   "cell_type": "markdown",
   "metadata": {},
   "source": [
    "### Masi Distance"
   ]
  },
  {
   "cell_type": "code",
   "execution_count": 40,
   "metadata": {
    "collapsed": true
   },
   "outputs": [],
   "source": [
    "def masi_distance(label1, label2):\n",
    "    len_intersection = len(label1.intersection(label2))\n",
    "    len_union = len(label1.union(label2))\n",
    "    len_label1 = len(label1)\n",
    "    len_label2 = len(label2)\n",
    "    if len_label1 == len_label2 and len_label1 == len_intersection:\n",
    "        m = 1\n",
    "    elif len_intersection == min(len_label1, len_label2):\n",
    "        m = 0.67\n",
    "    elif len_intersection > 0:\n",
    "        m = 0.33\n",
    "    else:\n",
    "        m = 0\n",
    "    return 1 - (len_intersection / float(len_union)) * m"
   ]
  },
  {
   "cell_type": "code",
   "execution_count": 41,
   "metadata": {},
   "outputs": [
    {
     "name": "stdout",
     "output_type": "stream",
     "text": [
      "0.0\n"
     ]
    }
   ],
   "source": [
    "X = set([50,30,30,70])\n",
    "Y= set([30,50,70])\n",
    "\n",
    "print(masi_distance(X,Y))"
   ]
  },
  {
   "cell_type": "markdown",
   "metadata": {
    "collapsed": true
   },
   "source": [
    "---"
   ]
  },
  {
   "cell_type": "markdown",
   "metadata": {
    "collapsed": true
   },
   "source": [
    "### Part of Speech Tagging"
   ]
  },
  {
   "cell_type": "code",
   "execution_count": 19,
   "metadata": {
    "scrolled": false
   },
   "outputs": [
    {
     "name": "stdout",
     "output_type": "stream",
     "text": [
      "NN\n",
      "['say', 'entering', 'shrine', 'dedicated', 'lord', 'ayyappa']\n",
      "\n",
      "VBD\n",
      "['two', 'pilgrimage', 'season', '500', '10-50', 'years', 'age', 'group', 'visit', 'shrine', 'nestled', 'western', 'ghats', 'heavy', 'police', 'deployment', 'protesters', 'stop', 'women', 'age']\n",
      "\n",
      "RB\n",
      "['temple']\n",
      "\n",
      "JJ\n",
      "['say', 'entering', 'shrine', 'dedicated', 'lord', 'ayyappa']\n",
      "\n",
      "IN\n",
      "['two', 'pilgrimage', 'season', '500', '10-50', 'years', 'age', 'group', 'visit', 'shrine', 'nestled', 'western', 'ghats', 'heavy', 'police', 'deployment', 'protesters', 'stop', 'women', 'age']\n",
      "\n",
      "VBG\n",
      "['say', 'entering', 'shrine', 'dedicated', 'lord', 'ayyappa']\n",
      "\n",
      "NNS\n",
      "['say', 'entering', 'shrine', 'dedicated', 'lord', 'ayyappa']\n",
      "\n",
      "VBN\n",
      "['say', 'entering', 'shrine', 'dedicated', 'lord', 'ayyappa']\n",
      "\n",
      "CD\n",
      "['two', 'pilgrimage', 'season', '500', '10-50', 'years', 'age', 'group', 'visit', 'shrine', 'nestled', 'western', 'ghats', 'heavy', 'police', 'deployment', 'protesters', 'stop', 'women', 'age']\n",
      "\n",
      "VBP\n",
      "['say', 'entering', 'shrine', 'dedicated', 'lord', 'ayyappa']\n",
      "\n"
     ]
    }
   ],
   "source": [
    "from nltk.tokenize import word_tokenize\n",
    "from nltk import pos_tag\n",
    "\n",
    "text =\"  A day after the Sabarimala temple reopened for the third time since the Supreme Court order allowing entry of women of menstruating age to the shrine of Lord Ayyappa, a right-wing organisation has called a shutdown across the state against the arrest of Hindu Aikya Vedi leader KP Sasikala. The hill top shrine opened on Friday evening for the two month annual pilgrimage season. Over 500 women in the 10-50 years age group have registered themselves to visit the shrine nestled in the Western Ghats. Despite heavy police deployment, protesters say they are determined to stop women of menstruating age from entering the shrine dedicated to Lord Ayyappa.\"\n",
    "\n",
    "wrds = [w.lower() for w in word_tokenize(text)]\n",
    "\n",
    "from nltk.corpus import stopwords\n",
    "rem_wrds = stopwords.words('english')\n",
    "\n",
    "imp_words  = []\n",
    "\n",
    "for i in wrds:\n",
    "    if i not in rem_wrds and i not in string.punctuation:\n",
    "        imp_words.append(i)\n",
    "        \n",
    "word_pos_dict = dict()\n",
    "        \n",
    "for j in pos_tag(imp_words):\n",
    "    if j[1] not in word_pos_dict.keys():\n",
    "        l=list()\n",
    "        l.append(j[0])\n",
    "        word_pos_dict[j[1]] = l\n",
    "        \n",
    "    else:\n",
    "        l1 = word_pos_dict[j[1]]\n",
    "        l1.append(j[0])\n",
    "        word_pos_dict[j[1]] = l\n",
    "        \n",
    "for i in word_pos_dict.keys():\n",
    "    print(i)\n",
    "    print(word_pos_dict[i])\n",
    "    print()\n",
    "    \n",
    "    \n",
    "        \n",
    "        "
   ]
  },
  {
   "cell_type": "markdown",
   "metadata": {},
   "source": [
    "---"
   ]
  },
  {
   "cell_type": "code",
   "execution_count": null,
   "metadata": {},
   "outputs": [],
   "source": []
  }
 ],
 "metadata": {
  "kernelspec": {
   "display_name": "Python 3",
   "language": "python",
   "name": "python3"
  },
  "language_info": {
   "codemirror_mode": {
    "name": "ipython",
    "version": 3
   },
   "file_extension": ".py",
   "mimetype": "text/x-python",
   "name": "python",
   "nbconvert_exporter": "python",
   "pygments_lexer": "ipython3",
   "version": "3.6.4"
  }
 },
 "nbformat": 4,
 "nbformat_minor": 2
}
