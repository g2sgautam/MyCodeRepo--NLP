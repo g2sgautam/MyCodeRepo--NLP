{
 "cells": [
  {
   "cell_type": "markdown",
   "metadata": {},
   "source": [
    "### Packages"
   ]
  },
  {
   "cell_type": "code",
   "execution_count": 7,
   "metadata": {
    "collapsed": true
   },
   "outputs": [],
   "source": [
    "import pandas as pd\n",
    "import numpy as np\n",
    "import seaborn as sns\n",
    "import matplotlib.pyplot as plt\n",
    "%matplotlib inline\n",
    "\n",
    "# pd.set_option('display.max_rows', 500)\n",
    "pd.set_option('display.max_columns', 500)\n",
    "pd.set_option('display.max_colwidth',1000)"
   ]
  },
  {
   "cell_type": "code",
   "execution_count": 8,
   "metadata": {
    "collapsed": true
   },
   "outputs": [],
   "source": [
    "dataset = pd.read_csv('labeledTrainData.tsv',sep='\\t')"
   ]
  },
  {
   "cell_type": "code",
   "execution_count": 9,
   "metadata": {},
   "outputs": [
    {
     "data": {
      "text/html": [
       "<div>\n",
       "<style>\n",
       "    .dataframe thead tr:only-child th {\n",
       "        text-align: right;\n",
       "    }\n",
       "\n",
       "    .dataframe thead th {\n",
       "        text-align: left;\n",
       "    }\n",
       "\n",
       "    .dataframe tbody tr th {\n",
       "        vertical-align: top;\n",
       "    }\n",
       "</style>\n",
       "<table border=\"1\" class=\"dataframe\">\n",
       "  <thead>\n",
       "    <tr style=\"text-align: right;\">\n",
       "      <th></th>\n",
       "      <th>id</th>\n",
       "      <th>sentiment</th>\n",
       "      <th>review</th>\n",
       "    </tr>\n",
       "  </thead>\n",
       "  <tbody>\n",
       "    <tr>\n",
       "      <th>0</th>\n",
       "      <td>5814_8</td>\n",
       "      <td>1</td>\n",
       "      <td>With all this stuff going down at the moment with MJ i've started listening to his music, watching the odd documentary here and there, watched The Wiz and watched Moonwalker again. Maybe i just want to get a certain insight into this guy who i thought was really cool in the eighties just to maybe make up my mind whether he is guilty or innocent. Moonwalker is part biography, part feature film which i remember going to see at the cinema when it was originally released. Some of it has subtle messages about MJ's feeling towards the press and also the obvious message of drugs are bad m'kay.&lt;br /&gt;&lt;br /&gt;Visually impressive but of course this is all about Michael Jackson so unless you remotely like MJ in anyway then you are going to hate this and find it boring. Some may call MJ an egotist for consenting to the making of this movie BUT MJ and most of his fans would say that he made it for the fans which if true is really nice of him.&lt;br /&gt;&lt;br /&gt;The actual feature film bit when it finally ...</td>\n",
       "    </tr>\n",
       "    <tr>\n",
       "      <th>1</th>\n",
       "      <td>2381_9</td>\n",
       "      <td>1</td>\n",
       "      <td>\\The Classic War of the Worlds\\\" by Timothy Hines is a very entertaining film that obviously goes to great effort and lengths to faithfully recreate H. G. Wells' classic book. Mr. Hines succeeds in doing so. I, and those who watched his film with me, appreciated the fact that it was not the standard, predictable Hollywood fare that comes out every year, e.g. the Spielberg version with Tom Cruise that had only the slightest resemblance to the book. Obviously, everyone looks for different things in a movie. Those who envision themselves as amateur \\\"critics\\\" look only to criticize everything they can. Others rate a movie on more important bases,like being entertained, which is why most people never agree with the \\\"critics\\\". We enjoyed the effort Mr. Hines put into being faithful to H.G. Wells' classic novel, and we found it to be very entertaining. This made it easy to overlook what the \\\"critics\\\" perceive to be its shortcomings.\"</td>\n",
       "    </tr>\n",
       "    <tr>\n",
       "      <th>2</th>\n",
       "      <td>7759_3</td>\n",
       "      <td>0</td>\n",
       "      <td>The film starts with a manager (Nicholas Bell) giving welcome investors (Robert Carradine) to Primal Park . A secret project mutating a primal animal using fossilized DNA, like ¨Jurassik Park¨, and some scientists resurrect one of nature's most fearsome predators, the Sabretooth tiger or Smilodon . Scientific ambition turns deadly, however, and when the high voltage fence is opened the creature escape and begins savagely stalking its prey - the human visitors , tourists and scientific.Meanwhile some youngsters enter in the restricted area of the security center and are attacked by a pack of large pre-historical animals which are deadlier and bigger . In addition , a security agent (Stacy Haiduk) and her mate (Brian Wimmer) fight hardly against the carnivorous Smilodons. The Sabretooths, themselves , of course, are the real star stars and they are astounding terrifyingly though not convincing. The giant animals savagely are stalking its prey and the group run afoul and fight against...</td>\n",
       "    </tr>\n",
       "    <tr>\n",
       "      <th>3</th>\n",
       "      <td>3630_4</td>\n",
       "      <td>0</td>\n",
       "      <td>It must be assumed that those who praised this film (\\the greatest filmed opera ever,\\\" didn't I read somewhere?) either don't care for opera, don't care for Wagner, or don't care about anything except their desire to appear Cultured. Either as a representation of Wagner's swan-song, or as a movie, this strikes me as an unmitigated disaster, with a leaden reading of the score matched to a tricksy, lugubrious realisation of the text.&lt;br /&gt;&lt;br /&gt;It's questionable that people with ideas as to what an opera (or, for that matter, a play, especially one by Shakespeare) is \\\"about\\\" should be allowed anywhere near a theatre or film studio; Syberberg, very fashionably, but without the smallest justification from Wagner's text, decided that Parsifal is \\\"about\\\" bisexual integration, so that the title character, in the latter stages, transmutes into a kind of beatnik babe, though one who continues to sing high tenor -- few if any of the actors in the film are the singers, and we get a doubl...</td>\n",
       "    </tr>\n",
       "    <tr>\n",
       "      <th>4</th>\n",
       "      <td>9495_8</td>\n",
       "      <td>1</td>\n",
       "      <td>Superbly trashy and wondrously unpretentious 80's exploitation, hooray! The pre-credits opening sequences somewhat give the false impression that we're dealing with a serious and harrowing drama, but you need not fear because barely ten minutes later we're up until our necks in nonsensical chainsaw battles, rough fist-fights, lurid dialogs and gratuitous nudity! Bo and Ingrid are two orphaned siblings with an unusually close and even slightly perverted relationship. Can you imagine playfully ripping off the towel that covers your sister's naked body and then stare at her unshaven genitals for several whole minutes? Well, Bo does that to his sister and, judging by her dubbed laughter, she doesn't mind at all. Sick, dude! Anyway, as kids they fled from Russia with their parents, but nasty soldiers brutally slaughtered mommy and daddy. A friendly smuggler took custody over them, however, and even raised and trained Bo and Ingrid into expert smugglers. When the actual plot lifts off, 2...</td>\n",
       "    </tr>\n",
       "  </tbody>\n",
       "</table>\n",
       "</div>"
      ],
      "text/plain": [
       "       id  sentiment  \\\n",
       "0  5814_8          1   \n",
       "1  2381_9          1   \n",
       "2  7759_3          0   \n",
       "3  3630_4          0   \n",
       "4  9495_8          1   \n",
       "\n",
       "                                                                                                                                                                                                                                                                                                                                                                                                                                                                                                                                                                                                                                                                                                                                                                                                                                                                                                                                                                                                                                    review  \n",
       "0  With all this stuff going down at the moment with MJ i've started listening to his music, watching the odd documentary here and there, watched The Wiz and watched Moonwalker again. Maybe i just want to get a certain insight into this guy who i thought was really cool in the eighties just to maybe make up my mind whether he is guilty or innocent. Moonwalker is part biography, part feature film which i remember going to see at the cinema when it was originally released. Some of it has subtle messages about MJ's feeling towards the press and also the obvious message of drugs are bad m'kay.<br /><br />Visually impressive but of course this is all about Michael Jackson so unless you remotely like MJ in anyway then you are going to hate this and find it boring. Some may call MJ an egotist for consenting to the making of this movie BUT MJ and most of his fans would say that he made it for the fans which if true is really nice of him.<br /><br />The actual feature film bit when it finally ...  \n",
       "1                                                       \\The Classic War of the Worlds\\\" by Timothy Hines is a very entertaining film that obviously goes to great effort and lengths to faithfully recreate H. G. Wells' classic book. Mr. Hines succeeds in doing so. I, and those who watched his film with me, appreciated the fact that it was not the standard, predictable Hollywood fare that comes out every year, e.g. the Spielberg version with Tom Cruise that had only the slightest resemblance to the book. Obviously, everyone looks for different things in a movie. Those who envision themselves as amateur \\\"critics\\\" look only to criticize everything they can. Others rate a movie on more important bases,like being entertained, which is why most people never agree with the \\\"critics\\\". We enjoyed the effort Mr. Hines put into being faithful to H.G. Wells' classic novel, and we found it to be very entertaining. This made it easy to overlook what the \\\"critics\\\" perceive to be its shortcomings.\"  \n",
       "2  The film starts with a manager (Nicholas Bell) giving welcome investors (Robert Carradine) to Primal Park . A secret project mutating a primal animal using fossilized DNA, like ¨Jurassik Park¨, and some scientists resurrect one of nature's most fearsome predators, the Sabretooth tiger or Smilodon . Scientific ambition turns deadly, however, and when the high voltage fence is opened the creature escape and begins savagely stalking its prey - the human visitors , tourists and scientific.Meanwhile some youngsters enter in the restricted area of the security center and are attacked by a pack of large pre-historical animals which are deadlier and bigger . In addition , a security agent (Stacy Haiduk) and her mate (Brian Wimmer) fight hardly against the carnivorous Smilodons. The Sabretooths, themselves , of course, are the real star stars and they are astounding terrifyingly though not convincing. The giant animals savagely are stalking its prey and the group run afoul and fight against...  \n",
       "3  It must be assumed that those who praised this film (\\the greatest filmed opera ever,\\\" didn't I read somewhere?) either don't care for opera, don't care for Wagner, or don't care about anything except their desire to appear Cultured. Either as a representation of Wagner's swan-song, or as a movie, this strikes me as an unmitigated disaster, with a leaden reading of the score matched to a tricksy, lugubrious realisation of the text.<br /><br />It's questionable that people with ideas as to what an opera (or, for that matter, a play, especially one by Shakespeare) is \\\"about\\\" should be allowed anywhere near a theatre or film studio; Syberberg, very fashionably, but without the smallest justification from Wagner's text, decided that Parsifal is \\\"about\\\" bisexual integration, so that the title character, in the latter stages, transmutes into a kind of beatnik babe, though one who continues to sing high tenor -- few if any of the actors in the film are the singers, and we get a doubl...  \n",
       "4  Superbly trashy and wondrously unpretentious 80's exploitation, hooray! The pre-credits opening sequences somewhat give the false impression that we're dealing with a serious and harrowing drama, but you need not fear because barely ten minutes later we're up until our necks in nonsensical chainsaw battles, rough fist-fights, lurid dialogs and gratuitous nudity! Bo and Ingrid are two orphaned siblings with an unusually close and even slightly perverted relationship. Can you imagine playfully ripping off the towel that covers your sister's naked body and then stare at her unshaven genitals for several whole minutes? Well, Bo does that to his sister and, judging by her dubbed laughter, she doesn't mind at all. Sick, dude! Anyway, as kids they fled from Russia with their parents, but nasty soldiers brutally slaughtered mommy and daddy. A friendly smuggler took custody over them, however, and even raised and trained Bo and Ingrid into expert smugglers. When the actual plot lifts off, 2...  "
      ]
     },
     "execution_count": 9,
     "metadata": {},
     "output_type": "execute_result"
    }
   ],
   "source": [
    "dataset.head()"
   ]
  },
  {
   "cell_type": "markdown",
   "metadata": {},
   "source": [
    "### Step 1 Need to clean the review column"
   ]
  },
  {
   "cell_type": "code",
   "execution_count": 85,
   "metadata": {},
   "outputs": [],
   "source": [
    "def get_tokens(para):\n",
    "    from nltk.tokenize import sent_tokenize\n",
    "    from nltk.corpus import stopwords\n",
    "    stp = stopwords.words('english')\n",
    "    import json\n",
    "    with open('word_contractions.json') as f:\n",
    "        word_contractions = json.load(f)\n",
    "\n",
    "    from bs4 import BeautifulSoup\n",
    "    soup = BeautifulSoup(para, \"html.parser\")\n",
    "    stripped_text = soup.get_text()\n",
    "    alltokens =[]\n",
    "\n",
    "    for sent in sent_tokenize(stripped_text):\n",
    "        wrds = [wrd.lower() for wrd in sent.split(' ')]\n",
    "        new_wrds =[]\n",
    "\n",
    "        for i in wrds:           \n",
    "            if i.find(\"'\")>0:\n",
    "                new_wrds.extend(word_contractions.get(i,i[:i.index(\"'\")]).split())\n",
    "            else:\n",
    "                temp = [wds for wds in i.split('.') if len(wds)>0]            \n",
    "                if len(temp)==2 and len(temp[0])>2 and len(temp[1])>0:\n",
    "                    new_wrds.extend(temp)\n",
    "                    continue\n",
    "\n",
    "\n",
    "\n",
    "                new_wrds.append(i.translate ({ord(c): \"\" for c in \"!@#$%^&*()[]{};:,./<>?\\|`~-=_+\"}))\n",
    "\n",
    "        new_wrds = [wrd for wrd in new_wrds if wrd not in stp and wrd.isdigit()!=True]\n",
    "        alltokens.extend(new_wrds)\n",
    "        \n",
    "    return ','.join(alltokens)"
   ]
  },
  {
   "cell_type": "markdown",
   "metadata": {},
   "source": [
    "#### Test the function "
   ]
  },
  {
   "cell_type": "code",
   "execution_count": 86,
   "metadata": {},
   "outputs": [
    {
     "name": "stdout",
     "output_type": "stream",
     "text": [
      "stuff,going,moment,mj,started,listening,music,watching,odd,documentary,watched,wiz,watched,moonwalker,maybe,want,get,certain,insight,guy,thought,really,cool,eighties,maybe,make,mind,whether,guilty,innocent,moonwalker,part,biography,part,feature,film,remember,going,see,cinema,originally,released,subtle,messages,mj,feeling,towards,press,also,obvious,message,drugs,bad,impressive,course,michael,jackson,unless,remotely,like,mj,anyway,going,hate,find,boring,may,call,mj,egotist,consenting,making,movie,mj,fans,would,say,made,fans,true,really,nice,actual,feature,film,bit,finally,starts,minutes,excluding,smooth,criminal,sequence,joe,pesci,convincing,psychopathic,powerful,drug,lord,wants,mj,dead,bad,beyond,mj,overheard,plans,nah,joe,pesci,character,ranted,wanted,people,know,supplying,drugs,etc,dunno,maybe,hates,mj,music,lots,cool,things,like,mj,turning,car,robot,whole,speed,demon,sequence,also,director,must,patience,saint,came,filming,kiddy,bad,sequence,usually,directors,hate,working,one,kid,let,alone,whole,bunch,performing,complex,dance,scene,bottom,line,movie,people,like,mj,one,level,another,think,people,stay,away,try,give,wholesome,message,ironically,mj,bestest,buddy,movie,girl,michael,jackson,truly,one,talented,people,ever,grace,planet,guilty,well,attention,gave,subject,hmmm,well,know,people,different,behind,closed,doors,know,fact,either,extremely,nice,stupid,guy,one,sickest,liars,hope,latter\n"
     ]
    }
   ],
   "source": [
    "print(get_tokens(dataset['review'][0]))"
   ]
  },
  {
   "cell_type": "markdown",
   "metadata": {},
   "source": [
    "### Step 2 Create a new column of review Tokens"
   ]
  },
  {
   "cell_type": "code",
   "execution_count": 87,
   "metadata": {
    "collapsed": true
   },
   "outputs": [],
   "source": [
    "#apply functions are very fast as compared to manual iteration using iterrows\n",
    "\n",
    "dataset['review_tokens'] = dataset.review.apply(lambda x:get_tokens(x))"
   ]
  },
  {
   "cell_type": "markdown",
   "metadata": {},
   "source": [
    "### Step 3 Check label balance"
   ]
  },
  {
   "cell_type": "code",
   "execution_count": 138,
   "metadata": {},
   "outputs": [
    {
     "data": {
      "text/plain": [
       "1    12500\n",
       "0    12500\n",
       "Name: sentiment, dtype: int64"
      ]
     },
     "execution_count": 138,
     "metadata": {},
     "output_type": "execute_result"
    }
   ],
   "source": [
    "dataset.sentiment.value_counts()"
   ]
  },
  {
   "cell_type": "markdown",
   "metadata": {},
   "source": [
    "### Step 4 Split the Data into Train and Test"
   ]
  },
  {
   "cell_type": "code",
   "execution_count": 100,
   "metadata": {
    "collapsed": true
   },
   "outputs": [],
   "source": [
    "X=dataset.review_tokens\n",
    "y=dataset.sentiment"
   ]
  },
  {
   "cell_type": "code",
   "execution_count": 101,
   "metadata": {
    "collapsed": true
   },
   "outputs": [],
   "source": [
    "from sklearn.model_selection import train_test_split\n",
    "\n",
    "X_train,X_test,y_train,y_test = train_test_split(X,y,test_size=0.3,random_state=123)"
   ]
  },
  {
   "cell_type": "code",
   "execution_count": 102,
   "metadata": {},
   "outputs": [
    {
     "data": {
      "text/plain": [
       "((17500,), (17500,), (7500,), (7500,))"
      ]
     },
     "execution_count": 102,
     "metadata": {},
     "output_type": "execute_result"
    }
   ],
   "source": [
    "X_train.shape,y_train.shape,X_test.shape,y_test.shape"
   ]
  },
  {
   "cell_type": "markdown",
   "metadata": {},
   "source": [
    "### Step 5 Creating a Baseline Model -Bag of Words +Naive-Bayes"
   ]
  },
  {
   "cell_type": "code",
   "execution_count": 125,
   "metadata": {},
   "outputs": [],
   "source": [
    "\n",
    "from sklearn.feature_extraction.text import CountVectorizer\n",
    "\n",
    "# build BOW features on train reviews\n",
    "cv = CountVectorizer(binary=False, ngram_range=(1,2)) #Just settnig minimum doc freq to 2 helps cut the vocab considerably\n",
    "cv_train_features = cv.fit_transform(X_train)"
   ]
  },
  {
   "cell_type": "code",
   "execution_count": 126,
   "metadata": {},
   "outputs": [
    {
     "data": {
      "text/plain": [
       "(17500, 1418114)"
      ]
     },
     "execution_count": 126,
     "metadata": {},
     "output_type": "execute_result"
    }
   ],
   "source": [
    "cv_train_features.shape"
   ]
  },
  {
   "cell_type": "code",
   "execution_count": 140,
   "metadata": {
    "collapsed": true
   },
   "outputs": [],
   "source": [
    "cv_test_features = cv.transform(X_test)"
   ]
  },
  {
   "cell_type": "code",
   "execution_count": 132,
   "metadata": {},
   "outputs": [
    {
     "data": {
      "text/plain": [
       "(7500, 1418114)"
      ]
     },
     "execution_count": 132,
     "metadata": {},
     "output_type": "execute_result"
    }
   ],
   "source": [
    "cv_test_features.shape"
   ]
  },
  {
   "cell_type": "code",
   "execution_count": 149,
   "metadata": {
    "collapsed": true
   },
   "outputs": [],
   "source": [
    "# cv.inverse_transform(cv_test_features)"
   ]
  },
  {
   "cell_type": "code",
   "execution_count": 128,
   "metadata": {},
   "outputs": [
    {
     "data": {
      "text/plain": [
       "{'already': 40945,\n",
       " 'put': 982806,\n",
       " 'best': 121410,\n",
       " 'version': 1333084,\n",
       " 'ever': 398707,\n",
       " 'homer': 585633,\n",
       " 'epic': 386167,\n",
       " 'entirely': 385110,\n",
       " 'shot': 1118597,\n",
       " 'natural': 836241,\n",
       " 'locations': 723362,\n",
       " 'mediterranean': 776776,\n",
       " 'sea': 1082171,\n",
       " 'sky': 1139578,\n",
       " 'strikingly': 1196978,\n",
       " 'blue': 137142,\n",
       " 'islands': 640207,\n",
       " 'green': 540091,\n",
       " 'untouched': 1319277,\n",
       " 'clothing': 224072,\n",
       " 'linen': 714865,\n",
       " 'wool': 1391463,\n",
       " 'fur': 496283,\n",
       " 'settings': 1106946,\n",
       " 'stony': 1187705,\n",
       " 'bare': 102477,\n",
       " 'everything': 401773,\n",
       " 'somewhat': 1154433,\n",
       " 'rugged': 1052751,\n",
       " 'primitive': 964946,\n",
       " 'bit': 129760,\n",
       " 'would': 1399834,\n",
       " 'find': 459574,\n",
       " 'cacoyannis': 167621,\n",
       " 'pasolini': 905426,\n",
       " 'movies': 818134,\n",
       " 'makes': 751312,\n",
       " 'authentic': 87471,\n",
       " 'although': 44552,\n",
       " 'story': 1189741,\n",
       " 'based': 103959,\n",
       " 'myths': 831731,\n",
       " 'widely': 1377554,\n",
       " 'goes': 523922,\n",
       " 'supernatural': 1213108,\n",
       " 'gives': 518374,\n",
       " 'us': 1321804,\n",
       " 'good': 527437,\n",
       " 'idea': 603679,\n",
       " 'life': 702655,\n",
       " '10th': 353,\n",
       " 'century': 190404,\n",
       " 'bc': 107434,\n",
       " 'might': 787686,\n",
       " 'like': 706495,\n",
       " 'rhythm': 1035948,\n",
       " 'slow': 1142913,\n",
       " 'austere': 87131,\n",
       " 'whole': 1375883,\n",
       " 'beautiful': 109042,\n",
       " 'quickly': 987159,\n",
       " 'get': 508133,\n",
       " 'actually': 19902,\n",
       " 'amazingly': 48031,\n",
       " 'close': 222671,\n",
       " 'original': 884784,\n",
       " 'plot': 940204,\n",
       " 'text': 1243640,\n",
       " 'ulysses': 1306242,\n",
       " 'appear': 65866,\n",
       " 'first': 463909,\n",
       " 'hour': 592769,\n",
       " 'start': 1177403,\n",
       " 'centered': 190048,\n",
       " 'son': 1155196,\n",
       " 'looking': 728330,\n",
       " 'suddenly': 1208000,\n",
       " 'appears': 66901,\n",
       " 'lost': 731456,\n",
       " 'storm': 1189570,\n",
       " 'lands': 681700,\n",
       " 'island': 639868,\n",
       " 'pheacians': 923426,\n",
       " 'royal': 1051959,\n",
       " 'family': 427234,\n",
       " 'takes': 1227108,\n",
       " 'care': 177815,\n",
       " 'adventures': 26281,\n",
       " 'told': 1273208,\n",
       " 'flashback': 467569,\n",
       " 'narration': 834647,\n",
       " 'hosts': 592019,\n",
       " 'terrifying': 1242406,\n",
       " 'cyclop': 283295,\n",
       " 'magic': 746777,\n",
       " 'world': 1395704,\n",
       " 'circe': 214578,\n",
       " 'underworld': 1311073,\n",
       " 'sirens': 1135327,\n",
       " 'etc': 392512,\n",
       " 'finally': 458788,\n",
       " 'comes': 233140,\n",
       " 'back': 94144,\n",
       " 'homeland': 585486,\n",
       " 'ithaca': 642616,\n",
       " 'years': 1409440,\n",
       " 'ends': 376797,\n",
       " 'dramatically': 345040,\n",
       " 'killing': 667221,\n",
       " 'pretenders': 962334,\n",
       " 'faithful': 425037,\n",
       " 'spouse': 1170330,\n",
       " 'penelope': 911409,\n",
       " 'odyssey': 866762,\n",
       " 'unparalleled': 1317410,\n",
       " 'metaphor': 784998,\n",
       " 'struggles': 1198707,\n",
       " 'man': 754609,\n",
       " 'cast': 183933,\n",
       " 'brilliant': 153818,\n",
       " 'international': 633186,\n",
       " 'irene': 638344,\n",
       " 'papas': 898774,\n",
       " 'typical': 1304207,\n",
       " 'greek': 540018,\n",
       " 'tragedy': 1283144,\n",
       " 'style': 1202639,\n",
       " 'performance': 915837,\n",
       " 'amazing': 47498,\n",
       " 'albanian': 34372,\n",
       " 'actor': 16223,\n",
       " 'bekim': 116524,\n",
       " 'fehmiu': 441529,\n",
       " 'really': 1003487,\n",
       " 'totally': 1278577,\n",
       " 'convincing': 255796,\n",
       " 'seems': 1091655,\n",
       " 'role': 1045157,\n",
       " 'made': 743742,\n",
       " 'strange': 1194094,\n",
       " 'never': 843487,\n",
       " 'offered': 867587,\n",
       " 'roles': 1046574,\n",
       " 'dimension': 321738,\n",
       " 'afterwards': 28984,\n",
       " 'also': 41662,\n",
       " 'playing': 936913,\n",
       " 'nausicaa': 837292,\n",
       " 'barbara': 102189,\n",
       " 'bach': 94010,\n",
       " 'gregorini': 540565,\n",
       " 'later': 684898,\n",
       " 'famous': 428428,\n",
       " 'james': 644942,\n",
       " 'bond': 140662,\n",
       " 'girl': 514233,\n",
       " 'spy': 1170971,\n",
       " 'loved': 736580,\n",
       " 'me': 773253,\n",
       " 'athena': 80900,\n",
       " 'michele': 786558,\n",
       " 'breton': 152520,\n",
       " 'otherwise': 887982,\n",
       " 'noted': 856250,\n",
       " 'movie': 811783,\n",
       " 'called': 169394,\n",
       " 'mick': 786664,\n",
       " 'jagger': 644609,\n",
       " 'done': 338432,\n",
       " 'ago': 30689,\n",
       " 'series': 1102043,\n",
       " 'quite': 988128,\n",
       " 'innovation': 624278,\n",
       " 'time': 1264326,\n",
       " 'big': 126458,\n",
       " 'european': 393671,\n",
       " 'coproduction': 257930,\n",
       " 'tv': 1299476,\n",
       " 'italy': 642142,\n",
       " 'france': 484786,\n",
       " 'germany': 507768,\n",
       " 'yugoslavia': 1415462,\n",
       " 'seen': 1092958,\n",
       " 'miniseries': 792466,\n",
       " 'parts': 904495,\n",
       " 'french': 487475,\n",
       " 'television': 1237306,\n",
       " 'far': 431404,\n",
       " 'kid': 663349,\n",
       " 'black': 131922,\n",
       " 'white': 1374876,\n",
       " 'left': 695050,\n",
       " 'vivid': 1343646,\n",
       " 'impression': 613152,\n",
       " 'long': 725113,\n",
       " 'wondered': 1389363,\n",
       " 'chance': 193288,\n",
       " 'see': 1085837,\n",
       " 'shown': 1123405,\n",
       " 'oni': 879573,\n",
       " 'recently': 1008331,\n",
       " 'found': 482434,\n",
       " 'copy': 258145,\n",
       " 'dvd': 354149,\n",
       " 'wonderful': 1389446,\n",
       " 'color': 228774,\n",
       " 'internet': 633307,\n",
       " 'unfortunately': 1312813,\n",
       " 'italian': 641841,\n",
       " 'subtitles': 1205482,\n",
       " 'german': 507441,\n",
       " 'versions': 1334029,\n",
       " 'existed': 410194,\n",
       " 'heard': 565942,\n",
       " 'english': 378680,\n",
       " 'film': 447997,\n",
       " 'unknown': 1315706,\n",
       " 'anglo': 54282,\n",
       " 'saxon': 1065364,\n",
       " 'shame': 1111204,\n",
       " 'watch': 1354858,\n",
       " 'going': 524873,\n",
       " 'forget': 478701,\n",
       " 'many': 759297,\n",
       " 'one': 874005,\n",
       " 'camerini': 172434,\n",
       " 'starring': 1176358,\n",
       " 'kirk': 670312,\n",
       " 'douglas': 341847,\n",
       " 'classic': 217478,\n",
       " 'swordandsandal': 1222786,\n",
       " 'the': 1245061,\n",
       " 'commandments': 235328,\n",
       " 'impressive': 613457,\n",
       " 'short': 1117528,\n",
       " 'complex': 241685,\n",
       " 'konchalovsky': 675665,\n",
       " 'meretricious': 783139,\n",
       " 'hollywood': 583510,\n",
       " 'special': 1164043,\n",
       " 'effects': 362726,\n",
       " 'sometimes': 1153879,\n",
       " 'gory': 531758,\n",
       " 'poorly': 948527,\n",
       " 'acted': 12961,\n",
       " 'grossly': 542325,\n",
       " 'afar': 27083,\n",
       " 'atmosphere': 81175,\n",
       " 'already put': 41338,\n",
       " 'put best': 982875,\n",
       " 'best version': 122784,\n",
       " 'version ever': 1333348,\n",
       " 'ever homer': 399181,\n",
       " 'homer epic': 585645,\n",
       " 'epic entirely': 386208,\n",
       " 'entirely shot': 385312,\n",
       " 'shot natural': 1119173,\n",
       " 'natural locations': 836367,\n",
       " 'locations mediterranean': 723456,\n",
       " 'mediterranean sea': 776785,\n",
       " 'sea sky': 1082287,\n",
       " 'sky strikingly': 1139724,\n",
       " 'strikingly blue': 1196982,\n",
       " 'blue islands': 137213,\n",
       " 'islands green': 640220,\n",
       " 'green untouched': 540258,\n",
       " 'untouched clothing': 1319282,\n",
       " 'clothing linen': 224097,\n",
       " 'linen wool': 714869,\n",
       " 'wool fur': 1391466,\n",
       " 'fur settings': 496300,\n",
       " 'settings stony': 1107038,\n",
       " 'stony bare': 1187706,\n",
       " 'bare everything': 102496,\n",
       " 'everything somewhat': 402450,\n",
       " 'somewhat rugged': 1154795,\n",
       " 'rugged primitive': 1052764,\n",
       " 'primitive bit': 964950,\n",
       " 'bit would': 130951,\n",
       " 'would find': 1400650,\n",
       " 'find cacoyannis': 459744,\n",
       " 'cacoyannis pasolini': 167628,\n",
       " 'pasolini movies': 905441,\n",
       " 'movies makes': 819102,\n",
       " 'makes authentic': 751384,\n",
       " 'authentic although': 87475,\n",
       " 'although story': 45378,\n",
       " 'story based': 1189932,\n",
       " 'based myths': 104255,\n",
       " 'myths widely': 831752,\n",
       " 'widely goes': 1377566,\n",
       " 'goes supernatural': 524668,\n",
       " 'supernatural gives': 1213147,\n",
       " 'gives us': 518903,\n",
       " 'us good': 1322408,\n",
       " 'good idea': 528481,\n",
       " 'idea life': 604083,\n",
       " 'life 10th': 702656,\n",
       " '10th century': 355,\n",
       " 'century bc': 190424,\n",
       " 'bc might': 107448,\n",
       " 'might like': 788115,\n",
       " 'like rhythm': 710353,\n",
       " 'rhythm somewhat': 1035975,\n",
       " 'somewhat slow': 1154824,\n",
       " 'slow austere': 1142928,\n",
       " 'austere whole': 87143,\n",
       " 'whole beautiful': 1375934,\n",
       " 'beautiful quickly': 109599,\n",
       " 'quickly get': 987275,\n",
       " 'get actually': 508160,\n",
       " 'actually amazingly': 19946,\n",
       " 'amazingly close': 48049,\n",
       " 'close original': 222977,\n",
       " 'original plot': 885473,\n",
       " 'plot homer': 940869,\n",
       " 'homer text': 585684,\n",
       " 'text ulysses': 1243738,\n",
       " 'ulysses appear': 1306243,\n",
       " 'appear first': 65978,\n",
       " 'first hour': 464564,\n",
       " 'hour start': 593070,\n",
       " 'start centered': 1177485,\n",
       " 'centered son': 190074,\n",
       " 'son looking': 1155543,\n",
       " 'looking suddenly': 729074,\n",
       " 'suddenly appears': 1208010,\n",
       " 'appears lost': 67149,\n",
       " 'lost storm': 731982,\n",
       " 'storm lands': 1189623,\n",
       " 'lands island': 681728,\n",
       " 'island pheacians': 640080,\n",
       " 'pheacians royal': 923427,\n",
       " 'royal family': 1051980,\n",
       " 'family takes': 428222,\n",
       " 'takes good': 1227352,\n",
       " 'good care': 527735,\n",
       " 'care adventures': 177828,\n",
       " 'adventures told': 26390,\n",
       " 'told flashback': 1273365,\n",
       " 'flashback narration': 467616,\n",
       " 'narration hosts': 834693,\n",
       " 'hosts terrifying': 592030,\n",
       " 'terrifying cyclop': 1242426,\n",
       " 'cyclop magic': 283296,\n",
       " 'magic world': 747033,\n",
       " 'world circe': 1395895,\n",
       " 'circe underworld': 214579,\n",
       " 'underworld sirens': 1311103,\n",
       " 'sirens etc': 1135332,\n",
       " 'etc finally': 392667,\n",
       " 'finally comes': 458897,\n",
       " 'comes back': 233197,\n",
       " 'back homeland': 94828,\n",
       " 'homeland ithaca': 585492,\n",
       " 'ithaca years': 642618,\n",
       " 'years ends': 1409738,\n",
       " 'ends dramatically': 376900,\n",
       " 'dramatically killing': 345053,\n",
       " 'killing pretenders': 667420,\n",
       " 'pretenders faithful': 962335,\n",
       " 'faithful spouse': 425107,\n",
       " 'spouse penelope': 1170346,\n",
       " 'penelope story': 911427,\n",
       " 'story odyssey': 1191505,\n",
       " 'odyssey unparalleled': 866800,\n",
       " 'unparalleled metaphor': 1317414,\n",
       " 'metaphor struggles': 785049,\n",
       " 'struggles man': 1198760,\n",
       " 'man life': 755649,\n",
       " 'life cast': 702933,\n",
       " 'cast brilliant': 184056,\n",
       " 'brilliant international': 154069,\n",
       " 'international irene': 633243,\n",
       " 'irene papas': 638355,\n",
       " 'papas gives': 898780,\n",
       " 'us typical': 1323265,\n",
       " 'typical greek': 1304365,\n",
       " 'greek tragedy': 540072,\n",
       " 'tragedy style': 1283333,\n",
       " 'style performance': 1203084,\n",
       " 'performance penelope': 916664,\n",
       " 'penelope amazing': 911410,\n",
       " 'amazing albanian': 47518,\n",
       " 'albanian actor': 34373,\n",
       " 'actor bekim': 16299,\n",
       " 'bekim fehmiu': 116525,\n",
       " 'fehmiu ulysses': 441531,\n",
       " 'ulysses really': 1306249,\n",
       " 'really good': 1004301,\n",
       " 'good looking': 528696,\n",
       " 'looking totally': 729108,\n",
       " 'totally convincing': 1278668,\n",
       " 'convincing seems': 256013,\n",
       " 'seems role': 1092616,\n",
       " 'role really': 1046145,\n",
       " 'really made': 1004628,\n",
       " 'made strange': 745552,\n",
       " 'strange never': 1194352,\n",
       " 'never offered': 844212,\n",
       " 'offered roles': 867678,\n",
       " 'roles dimension': 1046702,\n",
       " 'dimension afterwards': 321739,\n",
       " 'afterwards also': 28985,\n",
       " 'also playing': 43351,\n",
       " 'playing nausicaa': 937385,\n",
       " 'nausicaa barbara': 837294,\n",
       " 'barbara bach': 102190,\n",
       " 'bach barbara': 94012,\n",
       " 'barbara gregorini': 102210,\n",
       " 'gregorini later': 540566,\n",
       " 'later famous': 685174,\n",
       " 'famous james': 428611,\n",
       " 'james bond': 644960,\n",
       " 'bond girl': 140719,\n",
       " 'girl spy': 515162,\n",
       " 'spy loved': 1171021,\n",
       " 'loved me': 736878,\n",
       " 'me playing': 773345,\n",
       " 'playing athena': 936957,\n",
       " 'athena michele': 80903,\n",
       " 'michele breton': 786559,\n",
       " 'breton otherwise': 152522,\n",
       " 'otherwise noted': 888163,\n",
       " 'noted strange': 856320,\n",
       " 'strange movie': 1194345,\n",
       " 'movie called': 812500,\n",
       " 'called performance': 169861,\n",
       " 'performance mick': 916575,\n",
       " 'mick jagger': 786673,\n",
       " 'jagger done': 644614,\n",
       " 'done years': 339490,\n",
       " 'years ago': 1409473,\n",
       " 'ago series': 31044,\n",
       " 'series actually': 1102061,\n",
       " 'actually quite': 20733,\n",
       " 'quite innovation': 988589,\n",
       " 'innovation time': 624295,\n",
       " 'time first': 1265349,\n",
       " 'first big': 464047,\n",
       " 'big european': 126744,\n",
       " 'european coproduction': 393706,\n",
       " 'coproduction tv': 257941,\n",
       " 'tv italy': 1299786,\n",
       " 'italy france': 642181,\n",
       " 'france germany': 484838,\n",
       " 'germany yugoslavia': 507910,\n",
       " 'yugoslavia seen': 1415474,\n",
       " 'seen miniseries': 1093923,\n",
       " 'miniseries parts': 792525,\n",
       " 'parts french': 904673,\n",
       " 'french television': 487738,\n",
       " 'television far': 1237413,\n",
       " 'far back': 431476,\n",
       " 'back kid': 94914,\n",
       " 'kid back': 663385,\n",
       " 'back although': 94216,\n",
       " 'although black': 44638,\n",
       " 'black white': 132466,\n",
       " 'white left': 1375138,\n",
       " 'left vivid': 695784,\n",
       " 'vivid impression': 1343682,\n",
       " 'impression life': 613275,\n",
       " 'life long': 703716,\n",
       " 'long wondered': 726105,\n",
       " 'wondered would': 1389438,\n",
       " 'would ever': 1400553,\n",
       " 'ever get': 399113,\n",
       " 'get chance': 508437,\n",
       " 'chance see': 193617,\n",
       " 'see never': 1087650,\n",
       " 'never shown': 844425,\n",
       " 'shown french': 1123585,\n",
       " 'french tv': 487749,\n",
       " 'tv later': 1299799,\n",
       " 'later oni': 685487,\n",
       " 'oni recently': 879583,\n",
       " 'recently found': 1008413,\n",
       " 'found copy': 482610,\n",
       " 'copy dvd': 258209,\n",
       " 'dvd wonderful': 354853,\n",
       " 'wonderful color': 1389538,\n",
       " 'color internet': 228860,\n",
       " 'internet unfortunately': 633385,\n",
       " 'unfortunately italian': 1313070,\n",
       " 'italian subtitles': 642042,\n",
       " 'subtitles although': 1205484,\n",
       " 'although french': 44884,\n",
       " 'french german': 487591,\n",
       " 'german versions': 507664,\n",
       " 'versions existed': 1334073,\n",
       " 'existed back': 410203,\n",
       " 'back never': 95104,\n",
       " 'never heard': 844010,\n",
       " 'heard english': 566069,\n",
       " 'english version': 379015,\n",
       " 'version film': 1333382,\n",
       " 'film widely': 454200,\n",
       " 'widely unknown': 1377587,\n",
       " 'unknown anglo': 1315714,\n",
       " 'anglo saxon': 54285,\n",
       " 'saxon world': 1065376,\n",
       " 'world quite': 1396650,\n",
       " 'quite shame': 988907,\n",
       " 'shame ever': 1111289,\n",
       " 'chance watch': 193709,\n",
       " 'watch going': 1355542,\n",
       " 'going forget': 525331,\n",
       " 'forget ever': 478781,\n",
       " 'ever many': 399306,\n",
       " 'many versions': 760784,\n",
       " 'versions odyssey': 1334123,\n",
       " 'odyssey one': 866787,\n",
       " 'one camerini': 874570,\n",
       " 'camerini starring': 172435,\n",
       " 'starring kirk': 1176488,\n",
       " 'kirk douglas': 670330,\n",
       " 'douglas classic': 341872,\n",
       " 'classic swordandsandal': 218107,\n",
       " 'swordandsandal like': 1222789,\n",
       " 'like the': 711155,\n",
       " 'the commandments': 1245232,\n",
       " 'commandments impressive': 235335,\n",
       " 'impressive short': 613661,\n",
       " 'short complex': 1117652,\n",
       " 'complex story': 241870,\n",
       " 'story one': 1191521,\n",
       " 'one konchalovsky': 876257,\n",
       " 'konchalovsky meretricious': 675667,\n",
       " 'meretricious hollywood': 783141,\n",
       " 'hollywood movie': 583928,\n",
       " 'movie based': 812231,\n",
       " 'based special': 104384,\n",
       " 'special effects': 1164144,\n",
       " 'effects sometimes': 363426,\n",
       " 'sometimes quite': 1154248,\n",
       " 'quite gory': 988512,\n",
       " 'gory poorly': 531835,\n",
       " 'poorly acted': 948529,\n",
       " 'acted grossly': 13050,\n",
       " 'grossly afar': 542326,\n",
       " 'afar homer': 27088,\n",
       " 'homer story': 585681,\n",
       " 'story atmosphere': 1189897,\n",
       " 'major': 748838,\n",
       " 'exception': 407338,\n",
       " 'pushes': 982664,\n",
       " 'way': 1360138,\n",
       " 'epstein': 387804,\n",
       " 'smart': 1144766,\n",
       " 'light': 705294,\n",
       " 'satire': 1062547,\n",
       " 'mansfield': 758971,\n",
       " 'better': 123427,\n",
       " 'funnier': 494754,\n",
       " 'paired': 897196,\n",
       " 'walston': 1348960,\n",
       " 'veteran': 1334455,\n",
       " 'determined': 313596,\n",
       " 'become': 110955,\n",
       " 'congressman': 247181,\n",
       " 'war': 1351510,\n",
       " 'buddies': 160184,\n",
       " 'including': 616075,\n",
       " 'suave': 1203697,\n",
       " 'conartist': 243207,\n",
       " 'grant': 535804,\n",
       " 'head': 563965,\n",
       " 'san': 1060679,\n",
       " 'francisco': 485146,\n",
       " 'leave': 693138,\n",
       " 'city': 215165,\n",
       " 'swinginest': 1222358,\n",
       " 'party': 905042,\n",
       " 'conniving': 247846,\n",
       " 'escape': 389657,\n",
       " 'service': 1104836,\n",
       " 'altogether': 45640,\n",
       " 'industrial': 620117,\n",
       " 'speaking': 1163640,\n",
       " 'tours': 1280436,\n",
       " 'thing': 1249400,\n",
       " 'delightful': 303067,\n",
       " 'suzy': 1220740,\n",
       " 'parker': 900887,\n",
       " 'onenote': 878859,\n",
       " 'love': 734612,\n",
       " 'interest': 630923,\n",
       " 'much': 821790,\n",
       " 'slows': 1143663,\n",
       " 'pace': 894350,\n",
       " 'second': 1083927,\n",
       " 'half': 551366,\n",
       " 'chemistry': 205019,\n",
       " 'gimmick': 513883,\n",
       " 'set': 1105138,\n",
       " 'making': 752666,\n",
       " 'every': 400020,\n",
       " 'serviceman': 1104966,\n",
       " 'duty': 354004,\n",
       " 'effort': 363714,\n",
       " 'course': 265424,\n",
       " 'married': 763310,\n",
       " 'nonetheless': 853157,\n",
       " 'loves': 737863,\n",
       " 'wife': 1377980,\n",
       " 'steal': 1181374,\n",
       " 'little': 717849,\n",
       " 'trouble': 1291706,\n",
       " 'who': 1375634,\n",
       " 'amusing': 51462,\n",
       " 'part': 901515,\n",
       " 'nonactor': 852450,\n",
       " 'costar': 260532,\n",
       " 'good cast': 527742,\n",
       " 'cast one': 184658,\n",
       " 'one major': 876462,\n",
       " 'major exception': 748961,\n",
       " 'exception pushes': 407508,\n",
       " 'pushes way': 982705,\n",
       " 'way epstein': 1360867,\n",
       " 'epstein smart': 387807,\n",
       " 'smart light': 1144858,\n",
       " 'light satire': 705589,\n",
       " 'satire mansfield': 1062634,\n",
       " 'mansfield never': 758979,\n",
       " 'never better': 843599,\n",
       " 'better funnier': 124024,\n",
       " 'funnier paired': 494808,\n",
       " 'paired walston': 897221,\n",
       " 'walston veteran': 1348973,\n",
       " 'veteran determined': 1334478,\n",
       " 'determined become': 313602,\n",
       " 'become congressman': 111082,\n",
       " 'congressman get': 247185,\n",
       " 'get war': 510264,\n",
       " 'war buddies': 1351588,\n",
       " 'buddies including': 160208,\n",
       " 'including suave': 616584,\n",
       " 'suave conartist': 1203704,\n",
       " 'conartist grant': 243209,\n",
       " 'grant head': 535854,\n",
       " 'head san': 564518,\n",
       " 'san francisco': 1060685,\n",
       " 'francisco leave': 485196,\n",
       " 'leave start': 693541,\n",
       " 'start city': 1177501,\n",
       " 'city swinginest': 215673,\n",
       " 'swinginest party': 1222359,\n",
       " 'party conniving': 905086,\n",
       " 'conniving escape': 247856,\n",
       " 'escape service': 389895,\n",
       " 'service altogether': 1104840,\n",
       " 'altogether industrial': 45668,\n",
       " 'industrial speaking': 620150,\n",
       " 'speaking tours': 1163834,\n",
       " 'tours thing': 1280441,\n",
       " 'thing movie': 1250166,\n",
       " 'movie delightful': 813119,\n",
       " 'delightful suzy': 303192,\n",
       " 'suzy parker': 1220742,\n",
       " 'parker onenote': 900952,\n",
       " 'onenote performance': 878868,\n",
       " 'performance grant': 916309,\n",
       " 'grant love': 535878,\n",
       " 'love interest': 735451,\n",
       " 'interest takes': 631359,\n",
       " 'takes much': 1227506,\n",
       " 'much film': 822645,\n",
       " 'film time': 453702,\n",
       " 'time slows': 1266743,\n",
       " 'slows pace': 1143677,\n",
       " 'pace second': 894557,\n",
       " 'second half': 1084119,\n",
       " 'half walston': 551837,\n",
       " 'walston mansfield': 1348967,\n",
       " 'mansfield good': 758977,\n",
       " 'good chemistry': 527785,\n",
       " 'chemistry gimmick': 205107,\n",
       " 'gimmick set': 513917,\n",
       " 'set making': 1105655,\n",
       " 'making love': 753135,\n",
       " 'love every': 735165,\n",
       " 'every serviceman': 400572,\n",
       " 'serviceman duty': 1104970,\n",
       " 'duty war': 354060,\n",
       " 'war effort': 1351684,\n",
       " 'effort course': 363776,\n",
       " 'course married': 266027,\n",
       " 'married man': 763465,\n",
       " 'man nonetheless': 755835,\n",
       " 'nonetheless loves': 853200,\n",
       " 'loves wife': 738096,\n",
       " 'wife steal': 1378775,\n",
       " 'steal movie': 1181458,\n",
       " 'movie little': 814856,\n",
       " 'little trouble': 719590,\n",
       " 'trouble grant': 1291805,\n",
       " 'grant who': 535934,\n",
       " 'who amusing': 1375637,\n",
       " 'amusing first': 51549,\n",
       " 'first part': 464903,\n",
       " 'part film': 901995,\n",
       " 'film paired': 451913,\n",
       " 'paired nonactor': 897211,\n",
       " 'nonactor costar': 852451,\n",
       " 'described': 308601,\n",
       " 'compare': 238447,\n",
       " 'fish': 465702,\n",
       " 'tim': 1264181,\n",
       " 'burton': 164615,\n",
       " 'less': 698161,\n",
       " 'glamorous': 519646,\n",
       " 'face': 420041,\n",
       " 'tale': 1228244,\n",
       " 'father': 434835,\n",
       " 'grandfather': 535414,\n",
       " 'tells': 1238619,\n",
       " 'stories': 1188999,\n",
       " 'narrative': 834783,\n",
       " 'moves': 811531,\n",
       " 'forth': 481324,\n",
       " 'outline': 889359,\n",
       " 'imdb': 609625,\n",
       " 'tell': 1237690,\n",
       " 'read': 998767,\n",
       " 'watching': 1357720,\n",
       " 'funny': 494979,\n",
       " 'engaging': 378177,\n",
       " 'enough': 381360,\n",
       " 'even': 394258,\n",
       " 'though': 1255865,\n",
       " 'another': 57385,\n",
       " 'dramatic': 344759,\n",
       " 'moments': 801466,\n",
       " 'surprises': 1217759,\n",
       " 'things': 1250780,\n",
       " 'expect': 410974,\n",
       " 'nice': 847292,\n",
       " 'deserves': 309525,\n",
       " 'attention': 83839,\n",
       " 'especially': 390390,\n",
       " 'movie best': 812307,\n",
       " 'best described': 121737,\n",
       " 'described compare': 308624,\n",
       " 'compare big': 238461,\n",
       " 'big fish': 126790,\n",
       " 'fish movie': 465747,\n",
       " 'movie tim': 817169,\n",
       " 'tim burton': 1264188,\n",
       " 'burton less': 164661,\n",
       " 'less glamorous': 698488,\n",
       " 'glamorous face': 519658,\n",
       " 'face tale': 420707,\n",
       " 'tale course': 1228331,\n",
       " 'course father': 265768,\n",
       " 'father grandfather': 435190,\n",
       " 'grandfather tells': 535474,\n",
       " 'tells stories': 1238912,\n",
       " 'stories movie': 1189315,\n",
       " 'movie narrative': 815261,\n",
       " 'narrative also': 834788,\n",
       " 'also moves': 43149,\n",
       " 'moves back': 811553,\n",
       " 'back forth': 94710,\n",
       " 'forth story': 481424,\n",
       " 'story outline': 1191547,\n",
       " 'outline imdb': 889375,\n",
       " 'imdb might': 609768,\n",
       " 'might tell': 788413,\n",
       " 'tell would': 1238304,\n",
       " 'would like': 1401055,\n",
       " 'like read': 710232,\n",
       " 'read watching': 999298,\n",
       " 'watching movie': 1358516,\n",
       " 'movie funny': 813947,\n",
       " 'funny engaging': 495299,\n",
       " 'engaging enough': 378214,\n",
       " 'enough even': 381723,\n",
       " 'even though': 397189,\n",
       " 'though get': 1256388,\n",
       " 'get one': 509485,\n",
       " 'one story': 877855,\n",
       " 'story another': 1189846,\n",
       " 'another dramatic': 57712,\n",
       " 'dramatic moments': 344901,\n",
       " 'moments also': 801487,\n",
       " 'also surprises': 43891,\n",
       " 'surprises things': 1217851,\n",
       " 'things would': 1251791,\n",
       " 'would expect': 1400576,\n",
       " 'expect nice': 411237,\n",
       " 'nice little': 847628,\n",
       " 'little movie': 718929,\n",
       " 'movie deserves': 813160,\n",
       " 'deserves attention': 309545,\n",
       " 'attention especially': 83959,\n",
       " 'especially like': 390963,\n",
       " 'like movies': 709544,\n",
       " 'movies like': 819055,\n",
       " 'may': 769946,\n",
       " 'true': 1292441,\n",
       " 'lewis': 701379,\n",
       " 'book': 141485,\n",
       " 'script': 1080397,\n",
       " 'basically': 104885,\n",
       " 'wordforword': 1392028,\n",
       " 'verbatim': 1332579,\n",
       " 'failed': 423469,\n",
       " 'capture': 176442,\n",
       " 'grandeur': 535394,\n",
       " 'associated': 79655,\n",
       " 'mythical': 831659,\n",
       " 'creatures': 272347,\n",
       " 'unicorns': 1313933,\n",
       " 'centaurs': 189931,\n",
       " 'griffins': 541067,\n",
       " 'ghouls': 512738,\n",
       " 'ghosts': 512585,\n",
       " 'drawn': 345533,\n",
       " 'previous': 963704,\n",
       " 'review': 1033692,\n",
       " 'greenscreen': 540438,\n",
       " 'flying': 472364,\n",
       " 'sequence': 1100808,\n",
       " 'hard': 558499,\n",
       " 'swallow': 1220813,\n",
       " 'nearly': 838327,\n",
       " 'laughed': 687141,\n",
       " 'death': 295546,\n",
       " 'saw': 1064296,\n",
       " 'humanoid': 598480,\n",
       " 'beavers': 110427,\n",
       " 'giant': 512914,\n",
       " 'stiff': 1184362,\n",
       " 'suits': 1210128,\n",
       " 'buck': 159837,\n",
       " 'teeth': 1236944,\n",
       " 'cried': 274431,\n",
       " 'wolf': 1386558,\n",
       " 'howl': 596365,\n",
       " 'grey': 540837,\n",
       " 'fuzzy': 497332,\n",
       " 'suit': 1209721,\n",
       " 'shrieking': 1125113,\n",
       " 'loudly': 734080,\n",
       " 'girlishly': 515851,\n",
       " 'possibly': 953108,\n",
       " 'could': 261356,\n",
       " 'acting': 13246,\n",
       " 'tremendously': 1288320,\n",
       " 'forced': 477148,\n",
       " 'lucy': 740072,\n",
       " 'penvensie': 911816,\n",
       " 'take': 1225510,\n",
       " 'indignation': 619561,\n",
       " 'desperation': 310999,\n",
       " 'felt': 442166,\n",
       " 'fourteen': 483859,\n",
       " 'hours': 593156,\n",
       " 'actress': 18582,\n",
       " 'plays': 937719,\n",
       " 'witch': 1383744,\n",
       " 'histrionics': 580372,\n",
       " 'home': 584746,\n",
       " 'stage': 1172180,\n",
       " 'booming': 142928,\n",
       " 'voice': 1343945,\n",
       " 'spread': 1170495,\n",
       " 'arms': 71373,\n",
       " 'valiant': 1328795,\n",
       " 'something': 1152432,\n",
       " 'shakespearian': 1110778,\n",
       " 'welcome': 1366709,\n",
       " 'sets': 1106203,\n",
       " 'feel': 439426,\n",
       " 'claustrophobic': 218748,\n",
       " 'whether': 1373708,\n",
       " 'scenes': 1072022,\n",
       " 'taking': 1227823,\n",
       " 'place': 930937,\n",
       " 'indoors': 619956,\n",
       " 'outdoors': 888969,\n",
       " 'bbc': 107304,\n",
       " 'afford': 27844,\n",
       " 'spend': 1165831,\n",
       " 'constructing': 250631,\n",
       " 'small': 1144060,\n",
       " 'characters': 198256,\n",
       " 'constantly': 250179,\n",
       " 'huddled': 596695,\n",
       " 'together': 1272011,\n",
       " 'castle': 185547,\n",
       " 'rundown': 1054145,\n",
       " 'rotting': 1050787,\n",
       " 'countryside': 264206,\n",
       " 'filled': 447538,\n",
       " 'styrofoam': 1203671,\n",
       " 'statues': 1180521,\n",
       " 'bad': 96763,\n",
       " 'lighting': 705875,\n",
       " 'children': 207404,\n",
       " 'wandering': 1349203,\n",
       " 'woods': 1391078,\n",
       " 'scene': 1069787,\n",
       " 'feels': 441109,\n",
       " 'simply': 1131141,\n",
       " 'around': 71970,\n",
       " 'circles': 214637,\n",
       " 'looks': 729208,\n",
       " 'decent': 297700,\n",
       " 'aslan': 78029,\n",
       " 'bet': 122978,\n",
       " 'probably': 966631,\n",
       " 'blew': 134611,\n",
       " 'entire': 384828,\n",
       " 'budget': 160419,\n",
       " 'building': 161675,\n",
       " 'mechanical': 775980,\n",
       " 'feline': 441632,\n",
       " 'great': 537297,\n",
       " 'standing': 1174377,\n",
       " 'still': 1184576,\n",
       " 'starts': 1178712,\n",
       " 'moving': 820140,\n",
       " 'cannot': 174387,\n",
       " 'help': 570404,\n",
       " 'pity': 930653,\n",
       " 'poor': 947801,\n",
       " 'rearend': 1005832,\n",
       " 'lion': 715995,\n",
       " 'yes': 1410931,\n",
       " 'hardcore': 559200,\n",
       " 'narnia': 834575,\n",
       " 'fan': 428856,\n",
       " 'want': 1349527,\n",
       " 'preserves': 961520,\n",
       " 'word': 1391542,\n",
       " 'wrote': 1406730,\n",
       " 'certainly': 191132,\n",
       " 'screenwriter': 1080038,\n",
       " 'lot': 732091,\n",
       " 'dialogue': 316664,\n",
       " 'chunky': 212145,\n",
       " 'awkward': 92682,\n",
       " 'screen': 1078526,\n",
       " 'getting': 511528,\n",
       " 'ready': 999805,\n",
       " 'flee': 469071,\n",
       " 'wolves': 1386706,\n",
       " 'mrs': 821277,\n",
       " 'beaver': 110403,\n",
       " 'incessant': 615051,\n",
       " 'oh': 869842,\n",
       " 'dearies': 295521,\n",
       " 'go': 521343,\n",
       " 'punctuated': 980670,\n",
       " 'simultaneous': 1132100,\n",
       " 'cries': 274505,\n",
       " 'sighs': 1127573,\n",
       " 'moans': 798860,\n",
       " 'no': 850890,\n",
       " 'please': 938989,\n",
       " 'comic': 234216,\n",
       " 'relief': 1018435,\n",
       " 'incongruous': 617050,\n",
       " 'supposed': 1214267,\n",
       " 'fleeing': 469093,\n",
       " 'imminent': 610701,\n",
       " 'danger': 286519,\n",
       " 'wondering': 1390200,\n",
       " 'pack': 895098,\n",
       " 'sewing': 1108249,\n",
       " 'machine': 742814,\n",
       " 'detracts': 313879,\n",
       " 'drama': 343991,\n",
       " 'fact': 421369,\n",
       " 'peppered': 914274,\n",
       " 'directing': 323379,\n",
       " 'faux': 436252,\n",
       " 'pas': 905375,\n",
       " 'recommend': 1009320,\n",
       " 'seeing': 1088976,\n",
       " 'new': 844864,\n",
       " 'disney': 331233,\n",
       " 'updated': 1320177,\n",
       " 'spectacular': 1164926,\n",
       " 'computer': 242819,\n",
       " 'animation': 55250,\n",
       " 'timing': 1268938,\n",
       " 'gorgeous': 531435,\n",
       " 'stealing': 1181527,\n",
       " 'subtle': 1205622,\n",
       " 'evil': 403065,\n",
       " 'seasoned': 1083424,\n",
       " 'politician': 946882,\n",
       " 'opposed': 882592,\n",
       " 'banshee': 101816,\n",
       " 'captures': 176768,\n",
       " 'magnificence': 747348,\n",
       " ...}"
      ]
     },
     "execution_count": 128,
     "metadata": {},
     "output_type": "execute_result"
    }
   ],
   "source": [
    "cv.vocabulary_"
   ]
  },
  {
   "cell_type": "code",
   "execution_count": 139,
   "metadata": {},
   "outputs": [
    {
     "name": "stderr",
     "output_type": "stream",
     "text": [
      "D:\\Python\\lib\\site-packages\\sklearn\\naive_bayes.py:480: UserWarning: alpha too small will result in numeric errors, setting alpha = 1.0e-10\n",
      "  'setting alpha = %.1e' % _ALPHA_MIN)\n"
     ]
    },
    {
     "data": {
      "text/plain": [
       "BernoulliNB(alpha=0, binarize=0.0, class_prior=None, fit_prior=True)"
      ]
     },
     "execution_count": 139,
     "metadata": {},
     "output_type": "execute_result"
    }
   ],
   "source": [
    "from sklearn.naive_bayes import BernoulliNB\n",
    "\n",
    "nb = BernoulliNB()\n",
    "\n",
    "nb.fit(cv_train_features,y_train.values)"
   ]
  },
  {
   "cell_type": "code",
   "execution_count": 141,
   "metadata": {
    "collapsed": true
   },
   "outputs": [],
   "source": [
    "nb_predict_train1 =  nb.predict(cv_train_features)"
   ]
  },
  {
   "cell_type": "code",
   "execution_count": 142,
   "metadata": {
    "collapsed": true
   },
   "outputs": [],
   "source": [
    "nb_predict1 = nb.predict(cv_test_features)"
   ]
  },
  {
   "cell_type": "code",
   "execution_count": 144,
   "metadata": {},
   "outputs": [
    {
     "name": "stdout",
     "output_type": "stream",
     "text": [
      "Training Metrics\n",
      "Accuracy: 0.9999428571428571\n",
      "Precision: 1.0\n",
      "Recall: 0.999885452462772\n",
      "Test Metrics\n",
      "Accuracy: 0.8192\n",
      "Precision: 0.8294213973799127\n",
      "Recall: 0.8061007957559682\n",
      "Test Classification Report\n",
      "              precision    recall  f1-score   support\n",
      "\n",
      "           0       0.81      0.83      0.82      3730\n",
      "           1       0.83      0.81      0.82      3770\n",
      "\n",
      "   micro avg       0.82      0.82      0.82      7500\n",
      "   macro avg       0.82      0.82      0.82      7500\n",
      "weighted avg       0.82      0.82      0.82      7500\n",
      "\n",
      "Roc -Auc Curve 0.8192702370200753\n"
     ]
    }
   ],
   "source": [
    "from sklearn.metrics import accuracy_score,precision_score,recall_score\n",
    "\n",
    "print(\"Training Metrics\")\n",
    "print(\"Accuracy:\",accuracy_score(y_train,nb_predict_train1))\n",
    "print(\"Precision:\",precision_score(y_train,nb_predict_train1))\n",
    "print(\"Recall:\",recall_score(y_train,nb_predict_train1))\n",
    "\n",
    "\n",
    "print(\"Test Metrics\")\n",
    "print(\"Accuracy:\",accuracy_score(y_test,nb_predict1))\n",
    "print(\"Precision:\",precision_score(y_test,nb_predict1))\n",
    "print(\"Recall:\",recall_score(y_test,nb_predict1))\n",
    "\n",
    "\n",
    "from sklearn.metrics import classification_report\n",
    "print('Test Classification Report')\n",
    "print(classification_report(y_test,nb_predict1))\n",
    "\n",
    "from sklearn.metrics import roc_curve, auc\n",
    "false_positive_rate, true_positive_rate, thresholds = roc_curve(y_test, nb_predict1)\n",
    "roc_auc = auc(false_positive_rate, true_positive_rate)\n",
    "\n",
    "print('Roc -Auc Curve',roc_auc)"
   ]
  },
  {
   "cell_type": "markdown",
   "metadata": {},
   "source": [
    "### Step 5 Creating a Baseline Model Using TF-IDF + Naive Bayes"
   ]
  },
  {
   "cell_type": "code",
   "execution_count": 150,
   "metadata": {
    "collapsed": true
   },
   "outputs": [],
   "source": [
    "from sklearn.feature_extraction.text import TfidfVectorizer"
   ]
  },
  {
   "cell_type": "code",
   "execution_count": 151,
   "metadata": {
    "collapsed": true
   },
   "outputs": [],
   "source": [
    "tfidf = TfidfVectorizer(use_idf=True, min_df=0.0, max_df=1.0, ngram_range=(1,2),sublinear_tf=True)\n",
    "\n",
    "tv_train_features = tfidf.fit_transform(X_train)"
   ]
  },
  {
   "cell_type": "code",
   "execution_count": 152,
   "metadata": {},
   "outputs": [
    {
     "data": {
      "text/plain": [
       "(17500, 1418114)"
      ]
     },
     "execution_count": 152,
     "metadata": {},
     "output_type": "execute_result"
    }
   ],
   "source": [
    "tv_train_features.shape"
   ]
  },
  {
   "cell_type": "code",
   "execution_count": 153,
   "metadata": {},
   "outputs": [
    {
     "data": {
      "text/plain": [
       "(7500, 1418114)"
      ]
     },
     "execution_count": 153,
     "metadata": {},
     "output_type": "execute_result"
    }
   ],
   "source": [
    "tv_test_features = tfidf.transform(X_test)\n",
    "\n",
    "tv_test_features.shape"
   ]
  },
  {
   "cell_type": "code",
   "execution_count": 154,
   "metadata": {},
   "outputs": [
    {
     "data": {
      "text/plain": [
       "BernoulliNB(alpha=1.0, binarize=0.0, class_prior=None, fit_prior=True)"
      ]
     },
     "execution_count": 154,
     "metadata": {},
     "output_type": "execute_result"
    }
   ],
   "source": [
    "from sklearn.naive_bayes import BernoulliNB\n",
    "\n",
    "nb2 = BernoulliNB()\n",
    "\n",
    "nb2.fit(tv_train_features,y_train.values)"
   ]
  },
  {
   "cell_type": "code",
   "execution_count": 155,
   "metadata": {
    "collapsed": true
   },
   "outputs": [],
   "source": [
    "nb_predict_train2 =  nb2.predict(tv_train_features)"
   ]
  },
  {
   "cell_type": "code",
   "execution_count": 156,
   "metadata": {
    "collapsed": true
   },
   "outputs": [],
   "source": [
    "nb_predict2 = nb.predict(tv_test_features)"
   ]
  },
  {
   "cell_type": "code",
   "execution_count": 157,
   "metadata": {},
   "outputs": [
    {
     "name": "stdout",
     "output_type": "stream",
     "text": [
      "Training Metrics\n",
      "Accuracy: 0.9956571428571429\n",
      "Precision: 1.0\n",
      "Recall: 0.9912943871706759\n",
      "Test Metrics\n",
      "Accuracy: 0.8192\n",
      "Precision: 0.8294213973799127\n",
      "Recall: 0.8061007957559682\n",
      "Test Classification Report\n",
      "              precision    recall  f1-score   support\n",
      "\n",
      "           0       0.81      0.83      0.82      3730\n",
      "           1       0.83      0.81      0.82      3770\n",
      "\n",
      "   micro avg       0.82      0.82      0.82      7500\n",
      "   macro avg       0.82      0.82      0.82      7500\n",
      "weighted avg       0.82      0.82      0.82      7500\n",
      "\n",
      "Roc -Auc Curve 0.8192702370200753\n"
     ]
    }
   ],
   "source": [
    "from sklearn.metrics import accuracy_score,precision_score,recall_score\n",
    "\n",
    "print(\"Training Metrics\")\n",
    "print(\"Accuracy:\",accuracy_score(y_train,nb_predict_train2))\n",
    "print(\"Precision:\",precision_score(y_train,nb_predict_train2))\n",
    "print(\"Recall:\",recall_score(y_train,nb_predict_train2))\n",
    "\n",
    "\n",
    "print(\"Test Metrics\")\n",
    "print(\"Accuracy:\",accuracy_score(y_test,nb_predict2))\n",
    "print(\"Precision:\",precision_score(y_test,nb_predict2))\n",
    "print(\"Recall:\",recall_score(y_test,nb_predict2))\n",
    "\n",
    "\n",
    "from sklearn.metrics import classification_report\n",
    "print('Test Classification Report')\n",
    "print(classification_report(y_test,nb_predict2))\n",
    "\n",
    "from sklearn.metrics import roc_curve, auc\n",
    "false_positive_rate, true_positive_rate, thresholds = roc_curve(y_test, nb_predict2)\n",
    "roc_auc = auc(false_positive_rate, true_positive_rate)\n",
    "\n",
    "print('Roc -Auc Curve',roc_auc)"
   ]
  },
  {
   "cell_type": "markdown",
   "metadata": {},
   "source": [
    "### Step 6 TFIDF + Random Forest"
   ]
  },
  {
   "cell_type": "code",
   "execution_count": 234,
   "metadata": {
    "collapsed": true
   },
   "outputs": [],
   "source": [
    "from sklearn.ensemble import RandomForestClassifier\n",
    "\n",
    "# rf_model2 = RandomForestClassifier(random_state=123,n_estimators=1000,max_depth=10)\n",
    "\n",
    "rf_model2 = RandomForestClassifier(random_state=123,n_estimators=1000,max_depth=10,max_leaf_nodes=50)\n",
    "\n",
    "rf_model2.fit(tv_train_features,y_train)\n",
    "\n",
    "rf_train_pred2= rf_model2.predict(tv_train_features)\n",
    "\n",
    "rf_test_pred2 = rf_model2.predict(tv_test_features)"
   ]
  },
  {
   "cell_type": "code",
   "execution_count": 235,
   "metadata": {},
   "outputs": [
    {
     "name": "stdout",
     "output_type": "stream",
     "text": [
      "Test Metrics\n",
      "Accuracy: 0.8616\n",
      "Precision: 0.86004217185029\n",
      "Recall: 0.8655172413793103\n",
      "Test Classification Report\n",
      "              precision    recall  f1-score   support\n",
      "\n",
      "           0       0.86      0.86      0.86      3730\n",
      "           1       0.86      0.87      0.86      3770\n",
      "\n",
      "   micro avg       0.86      0.86      0.86      7500\n",
      "   macro avg       0.86      0.86      0.86      7500\n",
      "weighted avg       0.86      0.86      0.86      7500\n",
      "\n",
      "Roc -Auc Curve 0.8615789960247758\n"
     ]
    }
   ],
   "source": [
    "from sklearn.metrics import accuracy_score,precision_score,recall_score\n",
    "\n",
    "print(\"Test Metrics\")\n",
    "print(\"Accuracy:\",accuracy_score(y_test,rf_test_pred2))\n",
    "print(\"Precision:\",precision_score(y_test,rf_test_pred2))\n",
    "print(\"Recall:\",recall_score(y_test,rf_test_pred2))\n",
    "\n",
    "\n",
    "from sklearn.metrics import classification_report\n",
    "print('Test Classification Report')\n",
    "print(classification_report(y_test,rf_test_pred2))\n",
    "\n",
    "from sklearn.metrics import roc_curve, auc\n",
    "false_positive_rate, true_positive_rate, thresholds = roc_curve(y_test, rf_test_pred2)\n",
    "roc_auc = auc(false_positive_rate, true_positive_rate)\n",
    "\n",
    "print('Roc -Auc Curve',roc_auc)"
   ]
  },
  {
   "cell_type": "markdown",
   "metadata": {},
   "source": [
    "### Step 6 TFIDF +  LightGBM"
   ]
  },
  {
   "cell_type": "code",
   "execution_count": 158,
   "metadata": {},
   "outputs": [
    {
     "name": "stdout",
     "output_type": "stream",
     "text": [
      "Collecting lightgbm\n",
      "  Downloading https://files.pythonhosted.org/packages/00/37/a392e669a83fef72b916009c438a924d2a9d70bc8aea62662b207105ed98/lightgbm-2.2.3-py2.py3-none-win_amd64.whl (515kB)\n",
      "Requirement already satisfied: scipy in d:\\python\\lib\\site-packages (from lightgbm)\n",
      "Requirement already satisfied: numpy in d:\\python\\lib\\site-packages (from lightgbm)\n",
      "Requirement already satisfied: scikit-learn in d:\\python\\lib\\site-packages (from lightgbm)\n",
      "Installing collected packages: lightgbm\n",
      "Successfully installed lightgbm-2.2.3\n"
     ]
    },
    {
     "name": "stderr",
     "output_type": "stream",
     "text": [
      "You are using pip version 9.0.1, however version 19.0.2 is available.\n",
      "You should consider upgrading via the 'python -m pip install --upgrade pip' command.\n"
     ]
    }
   ],
   "source": [
    "!pip install lightgbm"
   ]
  },
  {
   "cell_type": "code",
   "execution_count": 192,
   "metadata": {
    "collapsed": true
   },
   "outputs": [],
   "source": [
    "import lightgbm as lgb\n",
    "d_train = lgb.Dataset(tv_train_features, label=y_train)\n",
    "params = {}\n",
    "params['learning_rate'] = 0.003\n",
    "params['boosting_type'] = 'gbdt'\n",
    "params['objective'] = 'binary'\n",
    "params['metric'] = 'binary_logloss'\n",
    "# params['sub_feature'] = 0.5\n",
    "# params['num_leaves'] = 10\n",
    "# params['min_data'] = 50\n",
    "params['max_depth'] = 10\n",
    "clf = lgb.train(params, d_train, 2500)"
   ]
  },
  {
   "cell_type": "code",
   "execution_count": 193,
   "metadata": {
    "collapsed": true
   },
   "outputs": [],
   "source": [
    "#Prediction\n",
    "y_pred_gbm_train=clf.predict(tv_train_features)\n",
    "\n",
    "#convert into binary values\n",
    "for i in range(0,17500):\n",
    "    if y_pred_gbm_train[i]>=.5:\n",
    "        y_pred_gbm_train[i]=1\n",
    "    else:\n",
    "        y_pred_gbm_train[i]=0"
   ]
  },
  {
   "cell_type": "code",
   "execution_count": 194,
   "metadata": {
    "collapsed": true
   },
   "outputs": [],
   "source": [
    "y_pred_gbm_test =clf.predict(tv_test_features)\n",
    "\n",
    "#convert into binary values\n",
    "for i in range(0,7500):\n",
    "    if y_pred_gbm_test[i]>=.5:\n",
    "        y_pred_gbm_test[i]=1\n",
    "    else:\n",
    "        y_pred_gbm_test[i]=0"
   ]
  },
  {
   "cell_type": "code",
   "execution_count": 195,
   "metadata": {},
   "outputs": [
    {
     "name": "stdout",
     "output_type": "stream",
     "text": [
      "Test Metrics\n",
      "Accuracy: 0.8356\n",
      "Precision: 0.8288825512056002\n",
      "Recall: 0.8480106100795756\n",
      "Test Classification Report\n",
      "              precision    recall  f1-score   support\n",
      "\n",
      "           0       0.84      0.82      0.83      3730\n",
      "           1       0.83      0.85      0.84      3770\n",
      "\n",
      "   micro avg       0.84      0.84      0.84      7500\n",
      "   macro avg       0.84      0.84      0.84      7500\n",
      "weighted avg       0.84      0.84      0.84      7500\n",
      "\n",
      "Roc -Auc Curve 0.8355334551738361\n"
     ]
    }
   ],
   "source": [
    "from sklearn.metrics import accuracy_score,precision_score,recall_score\n",
    "\n",
    "print(\"Test Metrics\")\n",
    "print(\"Accuracy:\",accuracy_score(y_test,y_pred_gbm_test))\n",
    "print(\"Precision:\",precision_score(y_test,y_pred_gbm_test))\n",
    "print(\"Recall:\",recall_score(y_test,y_pred_gbm_test))\n",
    "\n",
    "\n",
    "from sklearn.metrics import classification_report\n",
    "print('Test Classification Report')\n",
    "print(classification_report(y_test,y_pred_gbm_test))\n",
    "\n",
    "from sklearn.metrics import roc_curve, auc\n",
    "false_positive_rate, true_positive_rate, thresholds = roc_curve(y_test, y_pred_gbm_test)\n",
    "roc_auc = auc(false_positive_rate, true_positive_rate)\n",
    "\n",
    "print('Roc -Auc Curve',roc_auc)"
   ]
  },
  {
   "cell_type": "markdown",
   "metadata": {},
   "source": [
    "### Step 7 Choosing the best Model to work with Test data(Kaggle)"
   ]
  },
  {
   "cell_type": "markdown",
   "metadata": {},
   "source": [
    "#### Load the test data"
   ]
  },
  {
   "cell_type": "code",
   "execution_count": 196,
   "metadata": {
    "collapsed": true
   },
   "outputs": [],
   "source": [
    "testdata =pd.read_csv('testData.tsv',sep='\\t')"
   ]
  },
  {
   "cell_type": "code",
   "execution_count": 198,
   "metadata": {},
   "outputs": [
    {
     "data": {
      "text/plain": [
       "(25000, 2)"
      ]
     },
     "execution_count": 198,
     "metadata": {},
     "output_type": "execute_result"
    }
   ],
   "source": [
    "testdata.shape"
   ]
  },
  {
   "cell_type": "code",
   "execution_count": 200,
   "metadata": {},
   "outputs": [
    {
     "data": {
      "text/html": [
       "<div>\n",
       "<style>\n",
       "    .dataframe thead tr:only-child th {\n",
       "        text-align: right;\n",
       "    }\n",
       "\n",
       "    .dataframe thead th {\n",
       "        text-align: left;\n",
       "    }\n",
       "\n",
       "    .dataframe tbody tr th {\n",
       "        vertical-align: top;\n",
       "    }\n",
       "</style>\n",
       "<table border=\"1\" class=\"dataframe\">\n",
       "  <thead>\n",
       "    <tr style=\"text-align: right;\">\n",
       "      <th></th>\n",
       "      <th>id</th>\n",
       "      <th>review</th>\n",
       "    </tr>\n",
       "  </thead>\n",
       "  <tbody>\n",
       "    <tr>\n",
       "      <th>0</th>\n",
       "      <td>12311_10</td>\n",
       "      <td>Naturally in a film who's main themes are of mortality, nostalgia, and loss of innocence it is perhaps not surprising that it is rated more highly by older viewers than younger ones. However there is a craftsmanship and completeness to the film which anyone can enjoy. The pace is steady and constant, the characters full and engaging, the relationships and interactions natural showing that you do not need floods of tears to show emotion, screams to show fear, shouting to show dispute or violence to show anger. Naturally Joyce's short story lends the film a ready made structure as perfect as a polished diamond, but the small changes Huston makes such as the inclusion of the poem fit in neatly. It is truly a masterpiece of tact, subtlety and overwhelming beauty.</td>\n",
       "    </tr>\n",
       "  </tbody>\n",
       "</table>\n",
       "</div>"
      ],
      "text/plain": [
       "         id  \\\n",
       "0  12311_10   \n",
       "\n",
       "                                                                                                                                                                                                                                                                                                                                                                                                                                                                                                                                                                                                                                                                                                                                                                                              review  \n",
       "0  Naturally in a film who's main themes are of mortality, nostalgia, and loss of innocence it is perhaps not surprising that it is rated more highly by older viewers than younger ones. However there is a craftsmanship and completeness to the film which anyone can enjoy. The pace is steady and constant, the characters full and engaging, the relationships and interactions natural showing that you do not need floods of tears to show emotion, screams to show fear, shouting to show dispute or violence to show anger. Naturally Joyce's short story lends the film a ready made structure as perfect as a polished diamond, but the small changes Huston makes such as the inclusion of the poem fit in neatly. It is truly a masterpiece of tact, subtlety and overwhelming beauty.  "
      ]
     },
     "execution_count": 200,
     "metadata": {},
     "output_type": "execute_result"
    }
   ],
   "source": [
    "testdata.head(1)"
   ]
  },
  {
   "cell_type": "code",
   "execution_count": 201,
   "metadata": {
    "collapsed": true
   },
   "outputs": [],
   "source": [
    "testdata['review_tokens'] = testdata.review.apply(lambda x:get_tokens(x))"
   ]
  },
  {
   "cell_type": "code",
   "execution_count": 203,
   "metadata": {},
   "outputs": [
    {
     "data": {
      "text/plain": [
       "(25000, 1418114)"
      ]
     },
     "execution_count": 203,
     "metadata": {},
     "output_type": "execute_result"
    }
   ],
   "source": [
    "tfidf_test_features = tfidf.transform(testdata.review_tokens)\n",
    "\n",
    "tfidf_test_features.shape"
   ]
  },
  {
   "cell_type": "code",
   "execution_count": 204,
   "metadata": {
    "collapsed": true
   },
   "outputs": [],
   "source": [
    "rf_test_predict = rf_model2.predict(tfidf_test_features)"
   ]
  },
  {
   "cell_type": "code",
   "execution_count": 206,
   "metadata": {},
   "outputs": [],
   "source": [
    "Predictions =pd.Series(rf_test_predict)"
   ]
  },
  {
   "cell_type": "code",
   "execution_count": 210,
   "metadata": {},
   "outputs": [
    {
     "data": {
      "text/plain": [
       "0    1\n",
       "1    0\n",
       "2    1\n",
       "3    1\n",
       "4    1\n",
       "dtype: int64"
      ]
     },
     "execution_count": 210,
     "metadata": {},
     "output_type": "execute_result"
    }
   ],
   "source": [
    "Predictions.head()"
   ]
  },
  {
   "cell_type": "code",
   "execution_count": 215,
   "metadata": {},
   "outputs": [
    {
     "data": {
      "text/plain": [
       "0    12311_10\n",
       "1      8348_2\n",
       "2      5828_4\n",
       "3      7186_2\n",
       "4     12128_7\n",
       "Name: id, dtype: object"
      ]
     },
     "execution_count": 215,
     "metadata": {},
     "output_type": "execute_result"
    }
   ],
   "source": [
    "testdata.id.head()"
   ]
  },
  {
   "cell_type": "code",
   "execution_count": 225,
   "metadata": {},
   "outputs": [],
   "source": [
    "f1 =testdata['id'].to_frame()\n",
    "f2 = Predictions.to_frame()"
   ]
  },
  {
   "cell_type": "code",
   "execution_count": 227,
   "metadata": {},
   "outputs": [],
   "source": [
    "submission = f1.join(f2)"
   ]
  },
  {
   "cell_type": "code",
   "execution_count": 229,
   "metadata": {
    "collapsed": true
   },
   "outputs": [],
   "source": [
    "submission.columns = ['id', 'Sentiment']"
   ]
  },
  {
   "cell_type": "code",
   "execution_count": 233,
   "metadata": {},
   "outputs": [],
   "source": [
    "submission.to_csv('Final_submission.csv',index = False)"
   ]
  }
 ],
 "metadata": {
  "kernelspec": {
   "display_name": "Python 3",
   "language": "python",
   "name": "python3"
  },
  "language_info": {
   "codemirror_mode": {
    "name": "ipython",
    "version": 3
   },
   "file_extension": ".py",
   "mimetype": "text/x-python",
   "name": "python",
   "nbconvert_exporter": "python",
   "pygments_lexer": "ipython3",
   "version": "3.6.3"
  }
 },
 "nbformat": 4,
 "nbformat_minor": 2
}
